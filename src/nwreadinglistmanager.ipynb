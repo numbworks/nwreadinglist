{
 "cells": [
  {
   "attachments": {},
   "cell_type": "markdown",
   "metadata": {},
   "source": [
    "|||\n",
    "|---|---|\n",
    "|Title|nwreadinglistmanager|\n",
    "|Author|numbworks|\n",
    "|Version|2.0.0|\n",
    "||Please check [docs/docs-nwreadinglistmanager.md](../docs/docs-nwreadinglistmanager.md) before proceeding.|"
   ]
  },
  {
   "attachments": {},
   "cell_type": "markdown",
   "metadata": {},
   "source": [
    "#### Setup"
   ]
  },
  {
   "cell_type": "code",
   "execution_count": null,
   "metadata": {},
   "outputs": [],
   "source": [
    "install_dependencies : bool = False\n",
    "\n",
    "if install_dependencies:\n",
    "    %pip install numpy==1.26.3\n",
    "    %pip install pyarrow==15.0.0\n",
    "    %pip install openpyxl==3.1.0\n",
    "    %pip install pandas==2.2.0\n",
    "    %pip install requests==2.31.0\n",
    "    %pip install seaborn==0.13.1\n",
    "    %pip install coverage==7.2.3\n",
    "    %pip install parameterized==0.9.0\n",
    "    %pip install tabulate==0.9.0\n",
    "    %pip install sparklines==0.4.2\n"
   ]
  },
  {
   "attachments": {},
   "cell_type": "markdown",
   "metadata": {},
   "source": [
    "#### Global Modules"
   ]
  },
  {
   "cell_type": "code",
   "execution_count": null,
   "metadata": {},
   "outputs": [],
   "source": [
    "from datetime import datetime\n",
    "from pandas import DataFrame\n"
   ]
  },
  {
   "attachments": {},
   "cell_type": "markdown",
   "metadata": {},
   "source": [
    "#### Local Modules"
   ]
  },
  {
   "cell_type": "code",
   "execution_count": null,
   "metadata": {},
   "outputs": [],
   "source": [
    "import nwreadinglistmanager as nwrlm\n",
    "import nwcorecomponents as nwcc\n",
    "from nwreadinglistmanager import SettingCollection"
   ]
  },
  {
   "cell_type": "markdown",
   "metadata": {},
   "source": [
    "#### Python Version Check"
   ]
  },
  {
   "cell_type": "code",
   "execution_count": null,
   "metadata": {},
   "outputs": [],
   "source": [
    "nwcc.check_python_version(expected_version = (3, 12, 1))"
   ]
  },
  {
   "attachments": {},
   "cell_type": "markdown",
   "metadata": {},
   "source": [
    "#### Functions : Temp"
   ]
  },
  {
   "cell_type": "code",
   "execution_count": null,
   "metadata": {},
   "outputs": [],
   "source": []
  },
  {
   "attachments": {},
   "cell_type": "markdown",
   "metadata": {},
   "source": [
    "#### Settings"
   ]
  },
  {
   "cell_type": "code",
   "execution_count": null,
   "metadata": {},
   "outputs": [],
   "source": [
    "setting_collection : SettingCollection = SettingCollection(\n",
    "    read_years = [2016, 2017 , 2018, 2019, 2020, 2021, 2022, 2023, 2024],\n",
    "    excel_path = nwrlm.get_default_reading_list_path(),\n",
    "    excel_books_skiprows = 0,\n",
    "    excel_books_nrows = 261,\n",
    "    excel_books_tabname = \"Books\",\n",
    "    excel_null_value = \"-\",\n",
    "    is_worth_min_books = 8,\n",
    "    is_worth_min_avgrating = 2.50,\n",
    "    n_generic = 5,\n",
    "    n_by_month = 12,\n",
    "    n_by_kbsize = 10,\n",
    "    show_books_df = False,\n",
    "    show_sas_by_month_upd_df = True,\n",
    "    show_sas_by_year_street_price_df = True,\n",
    "    show_cumulative_df = True,\n",
    "    show_sas_by_topic_df = True,\n",
    "    show_sas_by_publisher_df = False,\n",
    "    show_sas_by_publisher_flt_df = True,\n",
    "    show_sas_by_rating_df = True,\n",
    "    last_update = datetime.now(),\n",
    "    show_readme_md = True,\n",
    "    show_reading_list_by_month_md = False,\n",
    "    show_reading_list_by_publisher_md = False,\n",
    "    show_reading_list_by_rating_md = False,\n",
    "    show_reading_list_by_topic_md = False,\n",
    "    show_reading_list_md = False,\n",
    "    formatted_rating = True,\n",
    "    now  = datetime.now(),\n",
    "    working_folder_path = \"c:/Users/Rubèn/Desktop/\",\n",
    "    readme_file_name  = \"README.md\",\n",
    "    reading_list_by_month_file_name = \"READINGLISTBYMONTH.md\",\n",
    "    reading_list_by_publisher_file_name = \"READINGLISTBYPUBLISHER.md\",\n",
    "    reading_list_by_rating_file_name = \"READINGLISTBYRATING.md\",\n",
    "    reading_list_by_topic_file_name = \"READINGLISTBYTOPIC.md\",\n",
    "    reading_list_file_name = \"READINGLIST.md\",\n",
    "    save_reading_lists_to_file = False,\n",
    "    use_smaller_font_for_reading_list_md = True,\n",
    "    use_smaller_font_for_reading_list_by_month_md = True,\n",
    "    definitions = { \n",
    "        \"KBSize\": \"This metric is the word count of the notes I took about a given book.\"\n",
    "    },\n",
    "    enable_sparklines_maximum = True,\n",
    "    show_books_by_year_box_plot = False,\n",
    "    show_sliced_by_kbsize_box_plot = False,\n",
    "    show_sliced_by_kbsize_desc_df = True,\n",
    "    show_sliced_by_kbsize_asc_df = True,\n",
    "    show_yearly_trend_by_topic_df = True\n",
    ")\n"
   ]
  },
  {
   "attachments": {},
   "cell_type": "markdown",
   "metadata": {},
   "source": [
    "#### Main : Analysis"
   ]
  },
  {
   "cell_type": "code",
   "execution_count": null,
   "metadata": {},
   "outputs": [],
   "source": [
    "books_df : DataFrame = nwrlm.get_books_dataset(setting_collection = setting_collection)\n",
    "\n",
    "if setting_collection.show_books_df:\n",
    "    display(books_df.head(n = setting_collection.n_generic))\n"
   ]
  },
  {
   "cell_type": "code",
   "execution_count": null,
   "metadata": {},
   "outputs": [],
   "source": [
    "sas_by_month_df : DataFrame = nwrlm.get_sas_by_month(books_df = books_df, read_years = setting_collection.read_years)\n",
    "sas_by_month_upd_df = nwrlm.update_future_rs_to_empty(sas_by_month_df = sas_by_month_df , now = setting_collection.now)\n",
    "\n",
    "if setting_collection.show_sas_by_month_upd_df:\n",
    "    display(sas_by_month_upd_df.head(n = setting_collection.n_by_month))\n"
   ]
  },
  {
   "cell_type": "code",
   "execution_count": null,
   "metadata": {},
   "outputs": [],
   "source": [
    "sas_by_year_street_price_df : DataFrame = nwrlm.get_sas_by_year_street_price(\n",
    "    sas_by_month_df = sas_by_month_df, \n",
    "    books_df = books_df, \n",
    "    read_years = setting_collection.read_years\n",
    "    )\n",
    "\n",
    "if setting_collection.show_sas_by_year_street_price_df:\n",
    "    display(sas_by_year_street_price_df.head(n = setting_collection.n_generic))\n"
   ]
  },
  {
   "cell_type": "code",
   "execution_count": null,
   "metadata": {},
   "outputs": [],
   "source": [
    "cumulative_df : DataFrame = nwrlm.get_cumulative(books_df = books_df, last_update = setting_collection.last_update)\n",
    "\n",
    "if setting_collection.show_cumulative_df:\n",
    "    display(cumulative_df.head(n = setting_collection.n_generic))\n"
   ]
  },
  {
   "cell_type": "code",
   "execution_count": null,
   "metadata": {},
   "outputs": [],
   "source": [
    "sas_by_topic_df : DataFrame = nwrlm.get_sas_by_topic(books_df = books_df)\n",
    "\n",
    "if setting_collection.show_sas_by_topic_df:\n",
    "    display(sas_by_topic_df.head(n = setting_collection.n_generic))\n"
   ]
  },
  {
   "cell_type": "code",
   "execution_count": null,
   "metadata": {},
   "outputs": [],
   "source": [
    "sas_by_publisher_df : DataFrame = nwrlm.get_sas_by_publisher(books_df = books_df, setting_collection = setting_collection)\n",
    "\n",
    "if setting_collection.show_sas_by_publisher_df:\n",
    "    display(sas_by_publisher_df.head(n = setting_collection.n_generic))\n"
   ]
  },
  {
   "cell_type": "code",
   "execution_count": null,
   "metadata": {},
   "outputs": [],
   "source": [
    "sas_by_publisher_flt_df : DataFrame = nwrlm.filter_by_is_worth(sas_by_publisher_df = sas_by_publisher_df)\n",
    "\n",
    "if setting_collection.show_sas_by_publisher_flt_df: \n",
    "    display(sas_by_publisher_flt_df.head(n = setting_collection.n_generic))\n"
   ]
  },
  {
   "cell_type": "code",
   "execution_count": null,
   "metadata": {},
   "outputs": [],
   "source": [
    "sas_by_rating_df : DataFrame = nwrlm.get_sas_by_rating(books_df = books_df, formatted_rating = setting_collection.formatted_rating)\n",
    "\n",
    "if setting_collection.show_sas_by_rating_df:\n",
    "    display(sas_by_rating_df.head(n = setting_collection.n_generic))\n"
   ]
  },
  {
   "cell_type": "code",
   "execution_count": null,
   "metadata": {},
   "outputs": [],
   "source": [
    "if setting_collection.show_books_by_year_box_plot:\n",
    "    nwcc.show_box_plot(df = books_df, x_name = \"Year\")\n"
   ]
  },
  {
   "cell_type": "code",
   "execution_count": null,
   "metadata": {},
   "outputs": [],
   "source": [
    "if setting_collection.show_sliced_by_kbsize_box_plot:\n",
    "    sliced_by_kbsize_desc_df : DataFrame = nwrlm.slice_by_kbsize(books_df = books_df, ascending = False, remove_if_zero = False)\n",
    "    nwcc.show_box_plot(df = sliced_by_kbsize_desc_df, x_name = \"A4Sheets\")\n"
   ]
  },
  {
   "cell_type": "code",
   "execution_count": null,
   "metadata": {},
   "outputs": [],
   "source": [
    "if setting_collection.show_sliced_by_kbsize_desc_df:\n",
    "    sliced_by_kbsize_desc_df : DataFrame = nwrlm.slice_by_kbsize(books_df = books_df, ascending = False, remove_if_zero = True)\n",
    "    sliced_by_kbsize_desc_df = nwcc.convert_index_to_one_based(df = sliced_by_kbsize_desc_df)\n",
    "    sliced_by_kbsize_desc_df = sliced_by_kbsize_desc_df.head(n = setting_collection.n_by_kbsize)\n",
    "\n",
    "    display(sliced_by_kbsize_desc_df)\n"
   ]
  },
  {
   "cell_type": "code",
   "execution_count": null,
   "metadata": {},
   "outputs": [],
   "source": [
    "if setting_collection.show_sliced_by_kbsize_asc_df:\n",
    "    sliced_by_kbsize_asc_df : DataFrame = nwrlm.slice_by_kbsize(books_df = books_df, ascending = True, remove_if_zero = True)\n",
    "    sliced_by_kbsize_asc_df = nwcc.convert_index_to_one_based(df = sliced_by_kbsize_asc_df)\n",
    "    sliced_by_kbsize_asc_df = sliced_by_kbsize_asc_df.head(n = setting_collection.n_by_kbsize)\n",
    "\n",
    "    display(sliced_by_kbsize_asc_df)\n"
   ]
  },
  {
   "cell_type": "code",
   "execution_count": null,
   "metadata": {},
   "outputs": [],
   "source": [
    "if setting_collection.show_yearly_trend_by_topic_df:\n",
    "    yt_by_topic_df : DataFrame = nwrlm.get_yearly_trend_by_topic(books_df = books_df, setting_collection = setting_collection)\n",
    "\n",
    "    display(yt_by_topic_df)\n",
    "    "
   ]
  },
  {
   "attachments": {},
   "cell_type": "markdown",
   "metadata": {},
   "source": [
    "#### Main : Markdown Files"
   ]
  },
  {
   "cell_type": "code",
   "execution_count": null,
   "metadata": {},
   "outputs": [],
   "source": [
    "nwrlm.process_readme_md(\n",
    "    cumulative_df = cumulative_df, \n",
    "    setting_collection = setting_collection)\n"
   ]
  },
  {
   "cell_type": "code",
   "execution_count": null,
   "metadata": {},
   "outputs": [],
   "source": [
    "nwrlm.process_reading_list_by_month_md(\n",
    "    sas_by_month_df = sas_by_month_upd_df, \n",
    "    sas_by_year_street_price_df = sas_by_year_street_price_df, \n",
    "    setting_collection = setting_collection)\n"
   ]
  },
  {
   "cell_type": "code",
   "execution_count": null,
   "metadata": {},
   "outputs": [],
   "source": [
    "nwrlm.process_reading_list_by_publisher_md(\n",
    "    sas_by_publisher_flt_df = sas_by_publisher_flt_df, \n",
    "    sas_by_publisher_df = sas_by_publisher_df,\n",
    "    setting_collection = setting_collection)\n"
   ]
  },
  {
   "cell_type": "code",
   "execution_count": null,
   "metadata": {},
   "outputs": [],
   "source": [
    "nwrlm.process_reading_list_by_rating_md(\n",
    "    sas_by_rating_df = sas_by_rating_df, \n",
    "    setting_collection = setting_collection)\n"
   ]
  },
  {
   "cell_type": "code",
   "execution_count": null,
   "metadata": {},
   "outputs": [],
   "source": [
    "nwrlm.process_reading_list_by_topic_md(\n",
    "    sas_by_topic_df = sas_by_topic_df, \n",
    "    setting_collection = setting_collection)\n"
   ]
  },
  {
   "cell_type": "code",
   "execution_count": null,
   "metadata": {},
   "outputs": [],
   "source": [
    "nwrlm.process_reading_list_md(\n",
    "    books_df = books_df, \n",
    "    setting_collection = setting_collection)\n"
   ]
  }
 ],
 "metadata": {
  "kernelspec": {
   "display_name": "Python 3",
   "language": "python",
   "name": "python3"
  },
  "language_info": {
   "codemirror_mode": {
    "name": "ipython",
    "version": 3
   },
   "file_extension": ".py",
   "mimetype": "text/x-python",
   "name": "python",
   "nbconvert_exporter": "python",
   "pygments_lexer": "ipython3",
   "version": "3.12.1"
  },
  "orig_nbformat": 4,
  "polyglot_notebook": {
   "kernelInfo": {
    "defaultKernelName": "csharp",
    "items": [
     {
      "aliases": [],
      "name": "csharp"
     }
    ]
   }
  }
 },
 "nbformat": 4,
 "nbformat_minor": 2
}
