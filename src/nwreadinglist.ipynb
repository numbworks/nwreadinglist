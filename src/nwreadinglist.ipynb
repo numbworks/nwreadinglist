{
 "cells": [
  {
   "attachments": {},
   "cell_type": "markdown",
   "metadata": {},
   "source": [
    "|||\n",
    "|---|---|\n",
    "|Title|nwreadinglist|\n",
    "|Author|numbworks|\n",
    "|Version|3.5.0|\n",
    "||Please check [docs/docs-nwreadinglist.md](../docs/docs-nwreadinglist.md) before proceeding.|"
   ]
  },
  {
   "attachments": {},
   "cell_type": "markdown",
   "metadata": {},
   "source": [
    "#### Global Modules"
   ]
  },
  {
   "cell_type": "code",
   "execution_count": 155,
   "metadata": {},
   "outputs": [],
   "source": [
    "from pandas import DataFrame\n",
    "from typing import Tuple"
   ]
  },
  {
   "attachments": {},
   "cell_type": "markdown",
   "metadata": {},
   "source": [
    "#### Local Modules"
   ]
  },
  {
   "cell_type": "code",
   "execution_count": 156,
   "metadata": {},
   "outputs": [],
   "source": [
    "from nwshared import VersionChecker, PlotManager, DisplayPreProcessor\n",
    "from nwreadinglist import DefaultPathProvider, YearProvider, SettingBag, ComponentBag\n",
    "from nwreadinglist import ReadingListManager, MarkdownProcessor"
   ]
  },
  {
   "cell_type": "markdown",
   "metadata": {},
   "source": [
    "#### Python Version Check"
   ]
  },
  {
   "cell_type": "code",
   "execution_count": 157,
   "metadata": {},
   "outputs": [
    {
     "name": "stdout",
     "output_type": "stream",
     "text": [
      "The installed Python version is matching the expected one (installed: '3.12.5', expected: '3.12.5').\n"
     ]
    }
   ],
   "source": [
    "status : str = VersionChecker().get_python_version_status(required = (3, 12, 5))\n",
    "print(status)"
   ]
  },
  {
   "attachments": {},
   "cell_type": "markdown",
   "metadata": {},
   "source": [
    "#### Functions : Temp"
   ]
  },
  {
   "cell_type": "code",
   "execution_count": null,
   "metadata": {},
   "outputs": [],
   "source": []
  },
  {
   "attachments": {},
   "cell_type": "markdown",
   "metadata": {},
   "source": [
    "#### Settings"
   ]
  },
  {
   "cell_type": "code",
   "execution_count": 158,
   "metadata": {},
   "outputs": [],
   "source": [
    "setting_bag : SettingBag = SettingBag(\n",
    "    \n",
    "    save_reading_list_by_month_md = False,\n",
    "    save_reading_list_by_publisher_md = False,\n",
    "    save_reading_list_by_rating_md = False,\n",
    "    save_reading_list_by_topic_md = False,\n",
    "    save_reading_list_topic_trend_md = False,\n",
    "    save_reading_list_md = False,\n",
    "    working_folder_path = \"/home/nwreadinglist/\",\n",
    "    read_years = YearProvider().get_all_years(),\n",
    "    excel_path = DefaultPathProvider().get_default_reading_list_path(),\n",
    "    excel_books_nrows = 305\n",
    ")\n"
   ]
  },
  {
   "attachments": {},
   "cell_type": "markdown",
   "metadata": {},
   "source": [
    "#### Main : Analysis"
   ]
  },
  {
   "cell_type": "code",
   "execution_count": 159,
   "metadata": {},
   "outputs": [],
   "source": [
    "reading_list_manager : ReadingListManager = ReadingListManager(component_bag = ComponentBag(), setting_bag = setting_bag)\n",
    "books_df : DataFrame = reading_list_manager.get_books_dataset()\n",
    "dpp : DisplayPreProcessor = DisplayPreProcessor()\n",
    "\n",
    "if setting_bag.show_books_df:\n",
    "    display(books_df.head(n = setting_bag.n_generic))\n"
   ]
  },
  {
   "cell_type": "code",
   "execution_count": 160,
   "metadata": {},
   "outputs": [
    {
     "data": {
      "text/html": [
       "<style type=\"text/css\">\n",
       "</style>\n",
       "<table id=\"T_0643c\">\n",
       "  <thead>\n",
       "    <tr>\n",
       "      <th id=\"T_0643c_level0_col0\" class=\"col_heading level0 col0\" >Years</th>\n",
       "      <th id=\"T_0643c_level0_col1\" class=\"col_heading level0 col1\" >Books</th>\n",
       "      <th id=\"T_0643c_level0_col2\" class=\"col_heading level0 col2\" >Pages</th>\n",
       "      <th id=\"T_0643c_level0_col3\" class=\"col_heading level0 col3\" >TotalSpend</th>\n",
       "      <th id=\"T_0643c_level0_col4\" class=\"col_heading level0 col4\" >LastUpdate</th>\n",
       "    </tr>\n",
       "  </thead>\n",
       "  <tbody>\n",
       "    <tr>\n",
       "      <td id=\"T_0643c_row0_col0\" class=\"data row0 col0\" >9</td>\n",
       "      <td id=\"T_0643c_row0_col1\" class=\"data row0 col1\" >304</td>\n",
       "      <td id=\"T_0643c_row0_col2\" class=\"data row0 col2\" >83104</td>\n",
       "      <td id=\"T_0643c_row0_col3\" class=\"data row0 col3\" >$8581.65</td>\n",
       "      <td id=\"T_0643c_row0_col4\" class=\"data row0 col4\" >2024-09-22</td>\n",
       "    </tr>\n",
       "  </tbody>\n",
       "</table>\n"
      ],
      "text/plain": [
       "<pandas.io.formats.style.Styler at 0x7f79c370c740>"
      ]
     },
     "metadata": {},
     "output_type": "display_data"
    }
   ],
   "source": [
    "rolling_total_df : DataFrame = reading_list_manager.get_rolling_total(books_df = books_df)\n",
    "\n",
    "if setting_bag.show_rolling_total_df:\n",
    "    display(dpp.hide_index(rolling_total_df.head(n = setting_bag.n_generic)))\n"
   ]
  },
  {
   "cell_type": "code",
   "execution_count": 161,
   "metadata": {},
   "outputs": [
    {
     "data": {
      "text/html": [
       "<style type=\"text/css\">\n",
       "</style>\n",
       "<table id=\"T_88fe3\">\n",
       "  <thead>\n",
       "    <tr>\n",
       "      <th id=\"T_88fe3_level0_col0\" class=\"col_heading level0 col0\" >Month</th>\n",
       "      <th id=\"T_88fe3_level0_col1\" class=\"col_heading level0 col1\" >2016</th>\n",
       "      <th id=\"T_88fe3_level0_col2\" class=\"col_heading level0 col2\" >↕</th>\n",
       "      <th id=\"T_88fe3_level0_col3\" class=\"col_heading level0 col3\" >2017</th>\n",
       "      <th id=\"T_88fe3_level0_col4\" class=\"col_heading level0 col4\" >↕</th>\n",
       "      <th id=\"T_88fe3_level0_col5\" class=\"col_heading level0 col5\" >2018</th>\n",
       "      <th id=\"T_88fe3_level0_col6\" class=\"col_heading level0 col6\" >↕</th>\n",
       "      <th id=\"T_88fe3_level0_col7\" class=\"col_heading level0 col7\" >2019</th>\n",
       "      <th id=\"T_88fe3_level0_col8\" class=\"col_heading level0 col8\" >↕</th>\n",
       "      <th id=\"T_88fe3_level0_col9\" class=\"col_heading level0 col9\" >2020</th>\n",
       "      <th id=\"T_88fe3_level0_col10\" class=\"col_heading level0 col10\" >↕</th>\n",
       "      <th id=\"T_88fe3_level0_col11\" class=\"col_heading level0 col11\" >2021</th>\n",
       "      <th id=\"T_88fe3_level0_col12\" class=\"col_heading level0 col12\" >↕</th>\n",
       "      <th id=\"T_88fe3_level0_col13\" class=\"col_heading level0 col13\" >2022</th>\n",
       "      <th id=\"T_88fe3_level0_col14\" class=\"col_heading level0 col14\" >↕</th>\n",
       "      <th id=\"T_88fe3_level0_col15\" class=\"col_heading level0 col15\" >2023</th>\n",
       "      <th id=\"T_88fe3_level0_col16\" class=\"col_heading level0 col16\" >↕</th>\n",
       "      <th id=\"T_88fe3_level0_col17\" class=\"col_heading level0 col17\" >2024</th>\n",
       "    </tr>\n",
       "  </thead>\n",
       "  <tbody>\n",
       "    <tr>\n",
       "      <td id=\"T_88fe3_row0_col0\" class=\"data row0 col0\" >1</td>\n",
       "      <td id=\"T_88fe3_row0_col1\" class=\"data row0 col1\" >0 (0)</td>\n",
       "      <td id=\"T_88fe3_row0_col2\" class=\"data row0 col2\" >↑</td>\n",
       "      <td id=\"T_88fe3_row0_col3\" class=\"data row0 col3\" >13 (5157)</td>\n",
       "      <td id=\"T_88fe3_row0_col4\" class=\"data row0 col4\" >↓</td>\n",
       "      <td id=\"T_88fe3_row0_col5\" class=\"data row0 col5\" >0 (0)</td>\n",
       "      <td id=\"T_88fe3_row0_col6\" class=\"data row0 col6\" >↑</td>\n",
       "      <td id=\"T_88fe3_row0_col7\" class=\"data row0 col7\" >4 (1061)</td>\n",
       "      <td id=\"T_88fe3_row0_col8\" class=\"data row0 col8\" >↓</td>\n",
       "      <td id=\"T_88fe3_row0_col9\" class=\"data row0 col9\" >0 (0)</td>\n",
       "      <td id=\"T_88fe3_row0_col10\" class=\"data row0 col10\" >=</td>\n",
       "      <td id=\"T_88fe3_row0_col11\" class=\"data row0 col11\" >0 (0)</td>\n",
       "      <td id=\"T_88fe3_row0_col12\" class=\"data row0 col12\" >=</td>\n",
       "      <td id=\"T_88fe3_row0_col13\" class=\"data row0 col13\" >0 (0)</td>\n",
       "      <td id=\"T_88fe3_row0_col14\" class=\"data row0 col14\" >=</td>\n",
       "      <td id=\"T_88fe3_row0_col15\" class=\"data row0 col15\" >0 (0)</td>\n",
       "      <td id=\"T_88fe3_row0_col16\" class=\"data row0 col16\" >↑</td>\n",
       "      <td id=\"T_88fe3_row0_col17\" class=\"data row0 col17\" >3 (855)</td>\n",
       "    </tr>\n",
       "    <tr>\n",
       "      <td id=\"T_88fe3_row1_col0\" class=\"data row1 col0\" >2</td>\n",
       "      <td id=\"T_88fe3_row1_col1\" class=\"data row1 col1\" >0 (0)</td>\n",
       "      <td id=\"T_88fe3_row1_col2\" class=\"data row1 col2\" >↑</td>\n",
       "      <td id=\"T_88fe3_row1_col3\" class=\"data row1 col3\" >1 (106)</td>\n",
       "      <td id=\"T_88fe3_row1_col4\" class=\"data row1 col4\" >↓</td>\n",
       "      <td id=\"T_88fe3_row1_col5\" class=\"data row1 col5\" >0 (0)</td>\n",
       "      <td id=\"T_88fe3_row1_col6\" class=\"data row1 col6\" >↑</td>\n",
       "      <td id=\"T_88fe3_row1_col7\" class=\"data row1 col7\" >13 (2991)</td>\n",
       "      <td id=\"T_88fe3_row1_col8\" class=\"data row1 col8\" >↓</td>\n",
       "      <td id=\"T_88fe3_row1_col9\" class=\"data row1 col9\" >0 (0)</td>\n",
       "      <td id=\"T_88fe3_row1_col10\" class=\"data row1 col10\" >↑</td>\n",
       "      <td id=\"T_88fe3_row1_col11\" class=\"data row1 col11\" >11 (1289)</td>\n",
       "      <td id=\"T_88fe3_row1_col12\" class=\"data row1 col12\" >↓</td>\n",
       "      <td id=\"T_88fe3_row1_col13\" class=\"data row1 col13\" >0 (0)</td>\n",
       "      <td id=\"T_88fe3_row1_col14\" class=\"data row1 col14\" >=</td>\n",
       "      <td id=\"T_88fe3_row1_col15\" class=\"data row1 col15\" >0 (0)</td>\n",
       "      <td id=\"T_88fe3_row1_col16\" class=\"data row1 col16\" >↑</td>\n",
       "      <td id=\"T_88fe3_row1_col17\" class=\"data row1 col17\" >14 (5573)</td>\n",
       "    </tr>\n",
       "    <tr>\n",
       "      <td id=\"T_88fe3_row2_col0\" class=\"data row2 col0\" >3</td>\n",
       "      <td id=\"T_88fe3_row2_col1\" class=\"data row2 col1\" >0 (0)</td>\n",
       "      <td id=\"T_88fe3_row2_col2\" class=\"data row2 col2\" >↑</td>\n",
       "      <td id=\"T_88fe3_row2_col3\" class=\"data row2 col3\" >16 (3816)</td>\n",
       "      <td id=\"T_88fe3_row2_col4\" class=\"data row2 col4\" >↓</td>\n",
       "      <td id=\"T_88fe3_row2_col5\" class=\"data row2 col5\" >6 (600)</td>\n",
       "      <td id=\"T_88fe3_row2_col6\" class=\"data row2 col6\" >↑</td>\n",
       "      <td id=\"T_88fe3_row2_col7\" class=\"data row2 col7\" >20 (3349)</td>\n",
       "      <td id=\"T_88fe3_row2_col8\" class=\"data row2 col8\" >↓</td>\n",
       "      <td id=\"T_88fe3_row2_col9\" class=\"data row2 col9\" >0 (0)</td>\n",
       "      <td id=\"T_88fe3_row2_col10\" class=\"data row2 col10\" >↑</td>\n",
       "      <td id=\"T_88fe3_row2_col11\" class=\"data row2 col11\" >2 (612)</td>\n",
       "      <td id=\"T_88fe3_row2_col12\" class=\"data row2 col12\" >↓</td>\n",
       "      <td id=\"T_88fe3_row2_col13\" class=\"data row2 col13\" >0 (0)</td>\n",
       "      <td id=\"T_88fe3_row2_col14\" class=\"data row2 col14\" >↑</td>\n",
       "      <td id=\"T_88fe3_row2_col15\" class=\"data row2 col15\" >1 (139)</td>\n",
       "      <td id=\"T_88fe3_row2_col16\" class=\"data row2 col16\" >↓</td>\n",
       "      <td id=\"T_88fe3_row2_col17\" class=\"data row2 col17\" >0 (0)</td>\n",
       "    </tr>\n",
       "    <tr>\n",
       "      <td id=\"T_88fe3_row3_col0\" class=\"data row3 col0\" >4</td>\n",
       "      <td id=\"T_88fe3_row3_col1\" class=\"data row3 col1\" >0 (0)</td>\n",
       "      <td id=\"T_88fe3_row3_col2\" class=\"data row3 col2\" >↑</td>\n",
       "      <td id=\"T_88fe3_row3_col3\" class=\"data row3 col3\" >8 (2539)</td>\n",
       "      <td id=\"T_88fe3_row3_col4\" class=\"data row3 col4\" >↓</td>\n",
       "      <td id=\"T_88fe3_row3_col5\" class=\"data row3 col5\" >7 (1986)</td>\n",
       "      <td id=\"T_88fe3_row3_col6\" class=\"data row3 col6\" >↓</td>\n",
       "      <td id=\"T_88fe3_row3_col7\" class=\"data row3 col7\" >0 (0)</td>\n",
       "      <td id=\"T_88fe3_row3_col8\" class=\"data row3 col8\" >↑</td>\n",
       "      <td id=\"T_88fe3_row3_col9\" class=\"data row3 col9\" >9 (2226)</td>\n",
       "      <td id=\"T_88fe3_row3_col10\" class=\"data row3 col10\" >↓</td>\n",
       "      <td id=\"T_88fe3_row3_col11\" class=\"data row3 col11\" >0 (0)</td>\n",
       "      <td id=\"T_88fe3_row3_col12\" class=\"data row3 col12\" >=</td>\n",
       "      <td id=\"T_88fe3_row3_col13\" class=\"data row3 col13\" >0 (0)</td>\n",
       "      <td id=\"T_88fe3_row3_col14\" class=\"data row3 col14\" >=</td>\n",
       "      <td id=\"T_88fe3_row3_col15\" class=\"data row3 col15\" >0 (0)</td>\n",
       "      <td id=\"T_88fe3_row3_col16\" class=\"data row3 col16\" >=</td>\n",
       "      <td id=\"T_88fe3_row3_col17\" class=\"data row3 col17\" >0 (0)</td>\n",
       "    </tr>\n",
       "    <tr>\n",
       "      <td id=\"T_88fe3_row4_col0\" class=\"data row4 col0\" >5</td>\n",
       "      <td id=\"T_88fe3_row4_col1\" class=\"data row4 col1\" >1 (288)</td>\n",
       "      <td id=\"T_88fe3_row4_col2\" class=\"data row4 col2\" >↑</td>\n",
       "      <td id=\"T_88fe3_row4_col3\" class=\"data row4 col3\" >13 (3527)</td>\n",
       "      <td id=\"T_88fe3_row4_col4\" class=\"data row4 col4\" >↓</td>\n",
       "      <td id=\"T_88fe3_row4_col5\" class=\"data row4 col5\" >0 (0)</td>\n",
       "      <td id=\"T_88fe3_row4_col6\" class=\"data row4 col6\" >=</td>\n",
       "      <td id=\"T_88fe3_row4_col7\" class=\"data row4 col7\" >0 (0)</td>\n",
       "      <td id=\"T_88fe3_row4_col8\" class=\"data row4 col8\" >=</td>\n",
       "      <td id=\"T_88fe3_row4_col9\" class=\"data row4 col9\" >0 (0)</td>\n",
       "      <td id=\"T_88fe3_row4_col10\" class=\"data row4 col10\" >=</td>\n",
       "      <td id=\"T_88fe3_row4_col11\" class=\"data row4 col11\" >0 (0)</td>\n",
       "      <td id=\"T_88fe3_row4_col12\" class=\"data row4 col12\" >=</td>\n",
       "      <td id=\"T_88fe3_row4_col13\" class=\"data row4 col13\" >0 (0)</td>\n",
       "      <td id=\"T_88fe3_row4_col14\" class=\"data row4 col14\" >=</td>\n",
       "      <td id=\"T_88fe3_row4_col15\" class=\"data row4 col15\" >0 (0)</td>\n",
       "      <td id=\"T_88fe3_row4_col16\" class=\"data row4 col16\" >↑</td>\n",
       "      <td id=\"T_88fe3_row4_col17\" class=\"data row4 col17\" >2 (590)</td>\n",
       "    </tr>\n",
       "    <tr>\n",
       "      <td id=\"T_88fe3_row5_col0\" class=\"data row5 col0\" >6</td>\n",
       "      <td id=\"T_88fe3_row5_col1\" class=\"data row5 col1\" >8 (1734)</td>\n",
       "      <td id=\"T_88fe3_row5_col2\" class=\"data row5 col2\" >↓</td>\n",
       "      <td id=\"T_88fe3_row5_col3\" class=\"data row5 col3\" >4 (788)</td>\n",
       "      <td id=\"T_88fe3_row5_col4\" class=\"data row5 col4\" >↓</td>\n",
       "      <td id=\"T_88fe3_row5_col5\" class=\"data row5 col5\" >1 (24)</td>\n",
       "      <td id=\"T_88fe3_row5_col6\" class=\"data row5 col6\" >↓</td>\n",
       "      <td id=\"T_88fe3_row5_col7\" class=\"data row5 col7\" >0 (0)</td>\n",
       "      <td id=\"T_88fe3_row5_col8\" class=\"data row5 col8\" >=</td>\n",
       "      <td id=\"T_88fe3_row5_col9\" class=\"data row5 col9\" >0 (0)</td>\n",
       "      <td id=\"T_88fe3_row5_col10\" class=\"data row5 col10\" >=</td>\n",
       "      <td id=\"T_88fe3_row5_col11\" class=\"data row5 col11\" >0 (0)</td>\n",
       "      <td id=\"T_88fe3_row5_col12\" class=\"data row5 col12\" >=</td>\n",
       "      <td id=\"T_88fe3_row5_col13\" class=\"data row5 col13\" >0 (0)</td>\n",
       "      <td id=\"T_88fe3_row5_col14\" class=\"data row5 col14\" >↑</td>\n",
       "      <td id=\"T_88fe3_row5_col15\" class=\"data row5 col15\" >8 (642)</td>\n",
       "      <td id=\"T_88fe3_row5_col16\" class=\"data row5 col16\" >↓</td>\n",
       "      <td id=\"T_88fe3_row5_col17\" class=\"data row5 col17\" >4 (2572)</td>\n",
       "    </tr>\n",
       "    <tr>\n",
       "      <td id=\"T_88fe3_row6_col0\" class=\"data row6 col0\" >7</td>\n",
       "      <td id=\"T_88fe3_row6_col1\" class=\"data row6 col1\" >4 (1758)</td>\n",
       "      <td id=\"T_88fe3_row6_col2\" class=\"data row6 col2\" >↓</td>\n",
       "      <td id=\"T_88fe3_row6_col3\" class=\"data row6 col3\" >3 (1140)</td>\n",
       "      <td id=\"T_88fe3_row6_col4\" class=\"data row6 col4\" >=</td>\n",
       "      <td id=\"T_88fe3_row6_col5\" class=\"data row6 col5\" >3 (427)</td>\n",
       "      <td id=\"T_88fe3_row6_col6\" class=\"data row6 col6\" >↓</td>\n",
       "      <td id=\"T_88fe3_row6_col7\" class=\"data row6 col7\" >2 (444)</td>\n",
       "      <td id=\"T_88fe3_row6_col8\" class=\"data row6 col8\" >↓</td>\n",
       "      <td id=\"T_88fe3_row6_col9\" class=\"data row6 col9\" >0 (0)</td>\n",
       "      <td id=\"T_88fe3_row6_col10\" class=\"data row6 col10\" >=</td>\n",
       "      <td id=\"T_88fe3_row6_col11\" class=\"data row6 col11\" >0 (0)</td>\n",
       "      <td id=\"T_88fe3_row6_col12\" class=\"data row6 col12\" >=</td>\n",
       "      <td id=\"T_88fe3_row6_col13\" class=\"data row6 col13\" >0 (0)</td>\n",
       "      <td id=\"T_88fe3_row6_col14\" class=\"data row6 col14\" >=</td>\n",
       "      <td id=\"T_88fe3_row6_col15\" class=\"data row6 col15\" >0 (0)</td>\n",
       "      <td id=\"T_88fe3_row6_col16\" class=\"data row6 col16\" >↑</td>\n",
       "      <td id=\"T_88fe3_row6_col17\" class=\"data row6 col17\" >22 (6366)</td>\n",
       "    </tr>\n",
       "    <tr>\n",
       "      <td id=\"T_88fe3_row7_col0\" class=\"data row7 col0\" >8</td>\n",
       "      <td id=\"T_88fe3_row7_col1\" class=\"data row7 col1\" >2 (334)</td>\n",
       "      <td id=\"T_88fe3_row7_col2\" class=\"data row7 col2\" >↓</td>\n",
       "      <td id=\"T_88fe3_row7_col3\" class=\"data row7 col3\" >1 (453)</td>\n",
       "      <td id=\"T_88fe3_row7_col4\" class=\"data row7 col4\" >↓</td>\n",
       "      <td id=\"T_88fe3_row7_col5\" class=\"data row7 col5\" >0 (0)</td>\n",
       "      <td id=\"T_88fe3_row7_col6\" class=\"data row7 col6\" >↑</td>\n",
       "      <td id=\"T_88fe3_row7_col7\" class=\"data row7 col7\" >2 (848)</td>\n",
       "      <td id=\"T_88fe3_row7_col8\" class=\"data row7 col8\" >↓</td>\n",
       "      <td id=\"T_88fe3_row7_col9\" class=\"data row7 col9\" >0 (0)</td>\n",
       "      <td id=\"T_88fe3_row7_col10\" class=\"data row7 col10\" >=</td>\n",
       "      <td id=\"T_88fe3_row7_col11\" class=\"data row7 col11\" >0 (0)</td>\n",
       "      <td id=\"T_88fe3_row7_col12\" class=\"data row7 col12\" >=</td>\n",
       "      <td id=\"T_88fe3_row7_col13\" class=\"data row7 col13\" >0 (0)</td>\n",
       "      <td id=\"T_88fe3_row7_col14\" class=\"data row7 col14\" >↑</td>\n",
       "      <td id=\"T_88fe3_row7_col15\" class=\"data row7 col15\" >4 (1170)</td>\n",
       "      <td id=\"T_88fe3_row7_col16\" class=\"data row7 col16\" >↓</td>\n",
       "      <td id=\"T_88fe3_row7_col17\" class=\"data row7 col17\" >2 (491)</td>\n",
       "    </tr>\n",
       "    <tr>\n",
       "      <td id=\"T_88fe3_row8_col0\" class=\"data row8 col0\" >9</td>\n",
       "      <td id=\"T_88fe3_row8_col1\" class=\"data row8 col1\" >4 (881)</td>\n",
       "      <td id=\"T_88fe3_row8_col2\" class=\"data row8 col2\" >↓</td>\n",
       "      <td id=\"T_88fe3_row8_col3\" class=\"data row8 col3\" >3 (840)</td>\n",
       "      <td id=\"T_88fe3_row8_col4\" class=\"data row8 col4\" >↓</td>\n",
       "      <td id=\"T_88fe3_row8_col5\" class=\"data row8 col5\" >0 (0)</td>\n",
       "      <td id=\"T_88fe3_row8_col6\" class=\"data row8 col6\" >↑</td>\n",
       "      <td id=\"T_88fe3_row8_col7\" class=\"data row8 col7\" >1 (1259)</td>\n",
       "      <td id=\"T_88fe3_row8_col8\" class=\"data row8 col8\" >↓</td>\n",
       "      <td id=\"T_88fe3_row8_col9\" class=\"data row8 col9\" >0 (0)</td>\n",
       "      <td id=\"T_88fe3_row8_col10\" class=\"data row8 col10\" >=</td>\n",
       "      <td id=\"T_88fe3_row8_col11\" class=\"data row8 col11\" >0 (0)</td>\n",
       "      <td id=\"T_88fe3_row8_col12\" class=\"data row8 col12\" >↑</td>\n",
       "      <td id=\"T_88fe3_row8_col13\" class=\"data row8 col13\" >1 (360)</td>\n",
       "      <td id=\"T_88fe3_row8_col14\" class=\"data row8 col14\" >↑</td>\n",
       "      <td id=\"T_88fe3_row8_col15\" class=\"data row8 col15\" >9 (1969)</td>\n",
       "      <td id=\"T_88fe3_row8_col16\" class=\"data row8 col16\" >↓</td>\n",
       "      <td id=\"T_88fe3_row8_col17\" class=\"data row8 col17\" >0 (0)</td>\n",
       "    </tr>\n",
       "    <tr>\n",
       "      <td id=\"T_88fe3_row9_col0\" class=\"data row9 col0\" >10</td>\n",
       "      <td id=\"T_88fe3_row9_col1\" class=\"data row9 col1\" >2 (275)</td>\n",
       "      <td id=\"T_88fe3_row9_col2\" class=\"data row9 col2\" >↓</td>\n",
       "      <td id=\"T_88fe3_row9_col3\" class=\"data row9 col3\" >0 (0)</td>\n",
       "      <td id=\"T_88fe3_row9_col4\" class=\"data row9 col4\" >↑</td>\n",
       "      <td id=\"T_88fe3_row9_col5\" class=\"data row9 col5\" >6 (1201)</td>\n",
       "      <td id=\"T_88fe3_row9_col6\" class=\"data row9 col6\" >↓</td>\n",
       "      <td id=\"T_88fe3_row9_col7\" class=\"data row9 col7\" >0 (0)</td>\n",
       "      <td id=\"T_88fe3_row9_col8\" class=\"data row9 col8\" >↑</td>\n",
       "      <td id=\"T_88fe3_row9_col9\" class=\"data row9 col9\" >6 (1941)</td>\n",
       "      <td id=\"T_88fe3_row9_col10\" class=\"data row9 col10\" >↓</td>\n",
       "      <td id=\"T_88fe3_row9_col11\" class=\"data row9 col11\" >0 (0)</td>\n",
       "      <td id=\"T_88fe3_row9_col12\" class=\"data row9 col12\" >=</td>\n",
       "      <td id=\"T_88fe3_row9_col13\" class=\"data row9 col13\" >0 (0)</td>\n",
       "      <td id=\"T_88fe3_row9_col14\" class=\"data row9 col14\" >=</td>\n",
       "      <td id=\"T_88fe3_row9_col15\" class=\"data row9 col15\" >0 (0)</td>\n",
       "      <td id=\"T_88fe3_row9_col16\" class=\"data row9 col16\" ></td>\n",
       "      <td id=\"T_88fe3_row9_col17\" class=\"data row9 col17\" ></td>\n",
       "    </tr>\n",
       "    <tr>\n",
       "      <td id=\"T_88fe3_row10_col0\" class=\"data row10 col0\" >11</td>\n",
       "      <td id=\"T_88fe3_row10_col1\" class=\"data row10 col1\" >11 (4033)</td>\n",
       "      <td id=\"T_88fe3_row10_col2\" class=\"data row10 col2\" >↓</td>\n",
       "      <td id=\"T_88fe3_row10_col3\" class=\"data row10 col3\" >0 (0)</td>\n",
       "      <td id=\"T_88fe3_row10_col4\" class=\"data row10 col4\" >↑</td>\n",
       "      <td id=\"T_88fe3_row10_col5\" class=\"data row10 col5\" >10 (3172)</td>\n",
       "      <td id=\"T_88fe3_row10_col6\" class=\"data row10 col6\" >↓</td>\n",
       "      <td id=\"T_88fe3_row10_col7\" class=\"data row10 col7\" >0 (0)</td>\n",
       "      <td id=\"T_88fe3_row10_col8\" class=\"data row10 col8\" >↑</td>\n",
       "      <td id=\"T_88fe3_row10_col9\" class=\"data row10 col9\" >7 (2000)</td>\n",
       "      <td id=\"T_88fe3_row10_col10\" class=\"data row10 col10\" >↓</td>\n",
       "      <td id=\"T_88fe3_row10_col11\" class=\"data row10 col11\" >0 (0)</td>\n",
       "      <td id=\"T_88fe3_row10_col12\" class=\"data row10 col12\" >=</td>\n",
       "      <td id=\"T_88fe3_row10_col13\" class=\"data row10 col13\" >0 (0)</td>\n",
       "      <td id=\"T_88fe3_row10_col14\" class=\"data row10 col14\" >=</td>\n",
       "      <td id=\"T_88fe3_row10_col15\" class=\"data row10 col15\" >0 (0)</td>\n",
       "      <td id=\"T_88fe3_row10_col16\" class=\"data row10 col16\" ></td>\n",
       "      <td id=\"T_88fe3_row10_col17\" class=\"data row10 col17\" ></td>\n",
       "    </tr>\n",
       "    <tr>\n",
       "      <td id=\"T_88fe3_row11_col0\" class=\"data row11 col0\" >12</td>\n",
       "      <td id=\"T_88fe3_row11_col1\" class=\"data row11 col1\" >11 (3019)</td>\n",
       "      <td id=\"T_88fe3_row11_col2\" class=\"data row11 col2\" >↓</td>\n",
       "      <td id=\"T_88fe3_row11_col3\" class=\"data row11 col3\" >0 (0)</td>\n",
       "      <td id=\"T_88fe3_row11_col4\" class=\"data row11 col4\" >↑</td>\n",
       "      <td id=\"T_88fe3_row11_col5\" class=\"data row11 col5\" >15 (5236)</td>\n",
       "      <td id=\"T_88fe3_row11_col6\" class=\"data row11 col6\" >↓</td>\n",
       "      <td id=\"T_88fe3_row11_col7\" class=\"data row11 col7\" >0 (0)</td>\n",
       "      <td id=\"T_88fe3_row11_col8\" class=\"data row11 col8\" >↑</td>\n",
       "      <td id=\"T_88fe3_row11_col9\" class=\"data row11 col9\" >1 (435)</td>\n",
       "      <td id=\"T_88fe3_row11_col10\" class=\"data row11 col10\" >↓</td>\n",
       "      <td id=\"T_88fe3_row11_col11\" class=\"data row11 col11\" >0 (0)</td>\n",
       "      <td id=\"T_88fe3_row11_col12\" class=\"data row11 col12\" >=</td>\n",
       "      <td id=\"T_88fe3_row11_col13\" class=\"data row11 col13\" >0 (0)</td>\n",
       "      <td id=\"T_88fe3_row11_col14\" class=\"data row11 col14\" >↑</td>\n",
       "      <td id=\"T_88fe3_row11_col15\" class=\"data row11 col15\" >3 (588)</td>\n",
       "      <td id=\"T_88fe3_row11_col16\" class=\"data row11 col16\" ></td>\n",
       "      <td id=\"T_88fe3_row11_col17\" class=\"data row11 col17\" ></td>\n",
       "    </tr>\n",
       "  </tbody>\n",
       "</table>\n"
      ],
      "text/plain": [
       "<pandas.io.formats.style.Styler at 0x7f79c3d3ecc0>"
      ]
     },
     "metadata": {},
     "output_type": "display_data"
    }
   ],
   "source": [
    "sas_by_month_tpl : Tuple[DataFrame, DataFrame] = reading_list_manager.get_sas_by_month_tpl(books_df = books_df)\n",
    "\n",
    "if setting_bag.show_sas_by_month_df:\n",
    "    display(dpp.hide_index(sas_by_month_tpl[1].head(n = setting_bag.n_by_month)))\n"
   ]
  },
  {
   "cell_type": "code",
   "execution_count": 162,
   "metadata": {},
   "outputs": [
    {
     "data": {
      "text/html": [
       "<style type=\"text/css\">\n",
       "</style>\n",
       "<table id=\"T_97161\">\n",
       "  <thead>\n",
       "    <tr>\n",
       "      <th id=\"T_97161_level0_col0\" class=\"col_heading level0 col0\" >2016</th>\n",
       "      <th id=\"T_97161_level0_col1\" class=\"col_heading level0 col1\" >↕</th>\n",
       "      <th id=\"T_97161_level0_col2\" class=\"col_heading level0 col2\" >2017</th>\n",
       "      <th id=\"T_97161_level0_col3\" class=\"col_heading level0 col3\" >↕</th>\n",
       "      <th id=\"T_97161_level0_col4\" class=\"col_heading level0 col4\" >2018</th>\n",
       "      <th id=\"T_97161_level0_col5\" class=\"col_heading level0 col5\" >↕</th>\n",
       "      <th id=\"T_97161_level0_col6\" class=\"col_heading level0 col6\" >2019</th>\n",
       "      <th id=\"T_97161_level0_col7\" class=\"col_heading level0 col7\" >↕</th>\n",
       "      <th id=\"T_97161_level0_col8\" class=\"col_heading level0 col8\" >2020</th>\n",
       "      <th id=\"T_97161_level0_col9\" class=\"col_heading level0 col9\" >↕</th>\n",
       "      <th id=\"T_97161_level0_col10\" class=\"col_heading level0 col10\" >2021</th>\n",
       "      <th id=\"T_97161_level0_col11\" class=\"col_heading level0 col11\" >↕</th>\n",
       "      <th id=\"T_97161_level0_col12\" class=\"col_heading level0 col12\" >2022</th>\n",
       "      <th id=\"T_97161_level0_col13\" class=\"col_heading level0 col13\" >↕</th>\n",
       "      <th id=\"T_97161_level0_col14\" class=\"col_heading level0 col14\" >2023</th>\n",
       "      <th id=\"T_97161_level0_col15\" class=\"col_heading level0 col15\" >↕</th>\n",
       "      <th id=\"T_97161_level0_col16\" class=\"col_heading level0 col16\" >2024</th>\n",
       "    </tr>\n",
       "  </thead>\n",
       "  <tbody>\n",
       "    <tr>\n",
       "      <td id=\"T_97161_row0_col0\" class=\"data row0 col0\" >43 (12322)</td>\n",
       "      <td id=\"T_97161_row0_col1\" class=\"data row0 col1\" >↑</td>\n",
       "      <td id=\"T_97161_row0_col2\" class=\"data row0 col2\" >62 (18366)</td>\n",
       "      <td id=\"T_97161_row0_col3\" class=\"data row0 col3\" >↓</td>\n",
       "      <td id=\"T_97161_row0_col4\" class=\"data row0 col4\" >48 (12646)</td>\n",
       "      <td id=\"T_97161_row0_col5\" class=\"data row0 col5\" >↓</td>\n",
       "      <td id=\"T_97161_row0_col6\" class=\"data row0 col6\" >42 (9952)</td>\n",
       "      <td id=\"T_97161_row0_col7\" class=\"data row0 col7\" >↓</td>\n",
       "      <td id=\"T_97161_row0_col8\" class=\"data row0 col8\" >23 (6602)</td>\n",
       "      <td id=\"T_97161_row0_col9\" class=\"data row0 col9\" >↓</td>\n",
       "      <td id=\"T_97161_row0_col10\" class=\"data row0 col10\" >13 (1901)</td>\n",
       "      <td id=\"T_97161_row0_col11\" class=\"data row0 col11\" >↓</td>\n",
       "      <td id=\"T_97161_row0_col12\" class=\"data row0 col12\" >1 (360)</td>\n",
       "      <td id=\"T_97161_row0_col13\" class=\"data row0 col13\" >↑</td>\n",
       "      <td id=\"T_97161_row0_col14\" class=\"data row0 col14\" >25 (4508)</td>\n",
       "      <td id=\"T_97161_row0_col15\" class=\"data row0 col15\" >↑</td>\n",
       "      <td id=\"T_97161_row0_col16\" class=\"data row0 col16\" >47 (16447)</td>\n",
       "    </tr>\n",
       "    <tr>\n",
       "      <td id=\"T_97161_row1_col0\" class=\"data row1 col0\" >$1447.14</td>\n",
       "      <td id=\"T_97161_row1_col1\" class=\"data row1 col1\" >↑</td>\n",
       "      <td id=\"T_97161_row1_col2\" class=\"data row1 col2\" >$2093.14</td>\n",
       "      <td id=\"T_97161_row1_col3\" class=\"data row1 col3\" >↓</td>\n",
       "      <td id=\"T_97161_row1_col4\" class=\"data row1 col4\" >$1249.15</td>\n",
       "      <td id=\"T_97161_row1_col5\" class=\"data row1 col5\" >↓</td>\n",
       "      <td id=\"T_97161_row1_col6\" class=\"data row1 col6\" >$748.70</td>\n",
       "      <td id=\"T_97161_row1_col7\" class=\"data row1 col7\" >↓</td>\n",
       "      <td id=\"T_97161_row1_col8\" class=\"data row1 col8\" >$538.75</td>\n",
       "      <td id=\"T_97161_row1_col9\" class=\"data row1 col9\" >↓</td>\n",
       "      <td id=\"T_97161_row1_col10\" class=\"data row1 col10\" >$169.92</td>\n",
       "      <td id=\"T_97161_row1_col11\" class=\"data row1 col11\" >↓</td>\n",
       "      <td id=\"T_97161_row1_col12\" class=\"data row1 col12\" >$49.99</td>\n",
       "      <td id=\"T_97161_row1_col13\" class=\"data row1 col13\" >↑</td>\n",
       "      <td id=\"T_97161_row1_col14\" class=\"data row1 col14\" >$594.80</td>\n",
       "      <td id=\"T_97161_row1_col15\" class=\"data row1 col15\" >↑</td>\n",
       "      <td id=\"T_97161_row1_col16\" class=\"data row1 col16\" >$1690.06</td>\n",
       "    </tr>\n",
       "  </tbody>\n",
       "</table>\n"
      ],
      "text/plain": [
       "<pandas.io.formats.style.Styler at 0x7f79c39884d0>"
      ]
     },
     "metadata": {},
     "output_type": "display_data"
    }
   ],
   "source": [
    "sas_by_year_street_price_df : DataFrame = reading_list_manager.get_sas_by_year_street_price(\n",
    "    sas_by_month_tpl = sas_by_month_tpl, \n",
    "    books_df = books_df)\n",
    "\n",
    "if setting_bag.show_sas_by_year_street_price_df:\n",
    "    display(dpp.hide_index(sas_by_year_street_price_df.head(n = setting_bag.n_generic)))\n"
   ]
  },
  {
   "cell_type": "code",
   "execution_count": 163,
   "metadata": {},
   "outputs": [
    {
     "data": {
      "text/html": [
       "<style type=\"text/css\">\n",
       "</style>\n",
       "<table id=\"T_cd9f1\">\n",
       "  <thead>\n",
       "    <tr>\n",
       "      <th id=\"T_cd9f1_level0_col0\" class=\"col_heading level0 col0\" >Topic</th>\n",
       "      <th id=\"T_cd9f1_level0_col1\" class=\"col_heading level0 col1\" >Books</th>\n",
       "      <th id=\"T_cd9f1_level0_col2\" class=\"col_heading level0 col2\" >Pages</th>\n",
       "    </tr>\n",
       "  </thead>\n",
       "  <tbody>\n",
       "    <tr>\n",
       "      <td id=\"T_cd9f1_row0_col0\" class=\"data row0 col0\" >Software Engineering</td>\n",
       "      <td id=\"T_cd9f1_row0_col1\" class=\"data row0 col1\" >79</td>\n",
       "      <td id=\"T_cd9f1_row0_col2\" class=\"data row0 col2\" >22279</td>\n",
       "    </tr>\n",
       "    <tr>\n",
       "      <td id=\"T_cd9f1_row1_col0\" class=\"data row1 col0\" >C#</td>\n",
       "      <td id=\"T_cd9f1_row1_col1\" class=\"data row1 col1\" >56</td>\n",
       "      <td id=\"T_cd9f1_row1_col2\" class=\"data row1 col2\" >16449</td>\n",
       "    </tr>\n",
       "    <tr>\n",
       "      <td id=\"T_cd9f1_row2_col0\" class=\"data row2 col0\" >Python</td>\n",
       "      <td id=\"T_cd9f1_row2_col1\" class=\"data row2 col1\" >36</td>\n",
       "      <td id=\"T_cd9f1_row2_col2\" class=\"data row2 col2\" >11232</td>\n",
       "    </tr>\n",
       "    <tr>\n",
       "      <td id=\"T_cd9f1_row3_col0\" class=\"data row3 col0\" >Data Analysis, Data Science, ML</td>\n",
       "      <td id=\"T_cd9f1_row3_col1\" class=\"data row3 col1\" >34</td>\n",
       "      <td id=\"T_cd9f1_row3_col2\" class=\"data row3 col2\" >8631</td>\n",
       "    </tr>\n",
       "    <tr>\n",
       "      <td id=\"T_cd9f1_row4_col0\" class=\"data row4 col0\" >BI, Data Warehousing, PowerBI</td>\n",
       "      <td id=\"T_cd9f1_row4_col1\" class=\"data row4 col1\" >23</td>\n",
       "      <td id=\"T_cd9f1_row4_col2\" class=\"data row4 col2\" >6805</td>\n",
       "    </tr>\n",
       "    <tr>\n",
       "      <td id=\"T_cd9f1_row5_col0\" class=\"data row5 col0\" >Development Tools</td>\n",
       "      <td id=\"T_cd9f1_row5_col1\" class=\"data row5 col1\" >14</td>\n",
       "      <td id=\"T_cd9f1_row5_col2\" class=\"data row5 col2\" >3477</td>\n",
       "    </tr>\n",
       "    <tr>\n",
       "      <td id=\"T_cd9f1_row6_col0\" class=\"data row6 col0\" >Docker</td>\n",
       "      <td id=\"T_cd9f1_row6_col1\" class=\"data row6 col1\" >12</td>\n",
       "      <td id=\"T_cd9f1_row6_col2\" class=\"data row6 col2\" >1724</td>\n",
       "    </tr>\n",
       "    <tr>\n",
       "      <td id=\"T_cd9f1_row7_col0\" class=\"data row7 col0\" >Product Management</td>\n",
       "      <td id=\"T_cd9f1_row7_col1\" class=\"data row7 col1\" >10</td>\n",
       "      <td id=\"T_cd9f1_row7_col2\" class=\"data row7 col2\" >3445</td>\n",
       "    </tr>\n",
       "    <tr>\n",
       "      <td id=\"T_cd9f1_row8_col0\" class=\"data row8 col0\" >SQL Server</td>\n",
       "      <td id=\"T_cd9f1_row8_col1\" class=\"data row8 col1\" >7</td>\n",
       "      <td id=\"T_cd9f1_row8_col2\" class=\"data row8 col2\" >1955</td>\n",
       "    </tr>\n",
       "    <tr>\n",
       "      <td id=\"T_cd9f1_row9_col0\" class=\"data row9 col0\" >Entrepreneurship, Learning</td>\n",
       "      <td id=\"T_cd9f1_row9_col1\" class=\"data row9 col1\" >6</td>\n",
       "      <td id=\"T_cd9f1_row9_col2\" class=\"data row9 col2\" >1079</td>\n",
       "    </tr>\n",
       "    <tr>\n",
       "      <td id=\"T_cd9f1_row10_col0\" class=\"data row10 col0\" >AI</td>\n",
       "      <td id=\"T_cd9f1_row10_col1\" class=\"data row10 col1\" >5</td>\n",
       "      <td id=\"T_cd9f1_row10_col2\" class=\"data row10 col2\" >1332</td>\n",
       "    </tr>\n",
       "    <tr>\n",
       "      <td id=\"T_cd9f1_row11_col0\" class=\"data row11 col0\" >MariaDB</td>\n",
       "      <td id=\"T_cd9f1_row11_col1\" class=\"data row11 col1\" >4</td>\n",
       "      <td id=\"T_cd9f1_row11_col2\" class=\"data row11 col2\" >1177</td>\n",
       "    </tr>\n",
       "    <tr>\n",
       "      <td id=\"T_cd9f1_row12_col0\" class=\"data row12 col0\" >Powershell</td>\n",
       "      <td id=\"T_cd9f1_row12_col1\" class=\"data row12 col1\" >4</td>\n",
       "      <td id=\"T_cd9f1_row12_col2\" class=\"data row12 col2\" >1683</td>\n",
       "    </tr>\n",
       "    <tr>\n",
       "      <td id=\"T_cd9f1_row13_col0\" class=\"data row13 col0\" >Electronics, IoT</td>\n",
       "      <td id=\"T_cd9f1_row13_col1\" class=\"data row13 col1\" >4</td>\n",
       "      <td id=\"T_cd9f1_row13_col2\" class=\"data row13 col2\" >454</td>\n",
       "    </tr>\n",
       "    <tr>\n",
       "      <td id=\"T_cd9f1_row14_col0\" class=\"data row14 col0\" >Linux</td>\n",
       "      <td id=\"T_cd9f1_row14_col1\" class=\"data row14 col1\" >3</td>\n",
       "      <td id=\"T_cd9f1_row14_col2\" class=\"data row14 col2\" >382</td>\n",
       "    </tr>\n",
       "    <tr>\n",
       "      <td id=\"T_cd9f1_row15_col0\" class=\"data row15 col0\" >Cloud Vendors</td>\n",
       "      <td id=\"T_cd9f1_row15_col1\" class=\"data row15 col1\" >3</td>\n",
       "      <td id=\"T_cd9f1_row15_col2\" class=\"data row15 col2\" >342</td>\n",
       "    </tr>\n",
       "    <tr>\n",
       "      <td id=\"T_cd9f1_row16_col0\" class=\"data row16 col0\" >Regular Expressions</td>\n",
       "      <td id=\"T_cd9f1_row16_col1\" class=\"data row16 col1\" >2</td>\n",
       "      <td id=\"T_cd9f1_row16_col2\" class=\"data row16 col2\" >400</td>\n",
       "    </tr>\n",
       "    <tr>\n",
       "      <td id=\"T_cd9f1_row17_col0\" class=\"data row17 col0\" >Javascript</td>\n",
       "      <td id=\"T_cd9f1_row17_col1\" class=\"data row17 col1\" >2</td>\n",
       "      <td id=\"T_cd9f1_row17_col2\" class=\"data row17 col2\" >258</td>\n",
       "    </tr>\n",
       "  </tbody>\n",
       "</table>\n"
      ],
      "text/plain": [
       "<pandas.io.formats.style.Styler at 0x7f79c1397230>"
      ]
     },
     "metadata": {},
     "output_type": "display_data"
    }
   ],
   "source": [
    "sas_by_topic_df : DataFrame = reading_list_manager.get_sas_by_topic(books_df = books_df)\n",
    "\n",
    "if setting_bag.show_sas_by_topic_df:\n",
    "    display(dpp.hide_index(sas_by_topic_df))\n"
   ]
  },
  {
   "cell_type": "code",
   "execution_count": 164,
   "metadata": {},
   "outputs": [
    {
     "data": {
      "text/html": [
       "<style type=\"text/css\">\n",
       "</style>\n",
       "<table id=\"T_10092\">\n",
       "  <thead>\n",
       "    <tr>\n",
       "      <th id=\"T_10092_level0_col0\" class=\"col_heading level0 col0\" >Publisher</th>\n",
       "      <th id=\"T_10092_level0_col1\" class=\"col_heading level0 col1\" >Books</th>\n",
       "      <th id=\"T_10092_level0_col2\" class=\"col_heading level0 col2\" >AvgRating</th>\n",
       "      <th id=\"T_10092_level0_col3\" class=\"col_heading level0 col3\" >IsWorth</th>\n",
       "    </tr>\n",
       "  </thead>\n",
       "  <tbody>\n",
       "    <tr>\n",
       "      <td id=\"T_10092_row0_col0\" class=\"data row0 col0\" >Syncfusion</td>\n",
       "      <td id=\"T_10092_row0_col1\" class=\"data row0 col1\" >38</td>\n",
       "      <td id=\"T_10092_row0_col2\" class=\"data row0 col2\" >2.550000</td>\n",
       "      <td id=\"T_10092_row0_col3\" class=\"data row0 col3\" >Yes</td>\n",
       "    </tr>\n",
       "    <tr>\n",
       "      <td id=\"T_10092_row1_col0\" class=\"data row1 col0\" >Manning</td>\n",
       "      <td id=\"T_10092_row1_col1\" class=\"data row1 col1\" >14</td>\n",
       "      <td id=\"T_10092_row1_col2\" class=\"data row1 col2\" >2.640000</td>\n",
       "      <td id=\"T_10092_row1_col3\" class=\"data row1 col3\" >Yes</td>\n",
       "    </tr>\n",
       "  </tbody>\n",
       "</table>\n"
      ],
      "text/plain": [
       "<pandas.io.formats.style.Styler at 0x7f79c370df10>"
      ]
     },
     "metadata": {},
     "output_type": "display_data"
    }
   ],
   "source": [
    "sas_by_publisher_tpl : Tuple[DataFrame, DataFrame] = reading_list_manager.get_sas_by_publisher_tpl(books_df = books_df)\n",
    "\n",
    "if setting_bag.show_sas_by_publisher_df:\n",
    "    display(dpp.hide_index(sas_by_publisher_tpl[1].head(n = setting_bag.n_generic)))\n"
   ]
  },
  {
   "cell_type": "code",
   "execution_count": 165,
   "metadata": {},
   "outputs": [
    {
     "data": {
      "text/html": [
       "<style type=\"text/css\">\n",
       "</style>\n",
       "<table id=\"T_d717d\">\n",
       "  <thead>\n",
       "    <tr>\n",
       "      <th id=\"T_d717d_level0_col0\" class=\"col_heading level0 col0\" >Rating</th>\n",
       "      <th id=\"T_d717d_level0_col1\" class=\"col_heading level0 col1\" >Books</th>\n",
       "    </tr>\n",
       "  </thead>\n",
       "  <tbody>\n",
       "    <tr>\n",
       "      <td id=\"T_d717d_row0_col0\" class=\"data row0 col0\" >★★★★★</td>\n",
       "      <td id=\"T_d717d_row0_col1\" class=\"data row0 col1\" >9</td>\n",
       "    </tr>\n",
       "    <tr>\n",
       "      <td id=\"T_d717d_row1_col0\" class=\"data row1 col0\" >★★★★☆</td>\n",
       "      <td id=\"T_d717d_row1_col1\" class=\"data row1 col1\" >22</td>\n",
       "    </tr>\n",
       "    <tr>\n",
       "      <td id=\"T_d717d_row2_col0\" class=\"data row2 col0\" >★★★☆☆</td>\n",
       "      <td id=\"T_d717d_row2_col1\" class=\"data row2 col1\" >87</td>\n",
       "    </tr>\n",
       "    <tr>\n",
       "      <td id=\"T_d717d_row3_col0\" class=\"data row3 col0\" >★★☆☆☆</td>\n",
       "      <td id=\"T_d717d_row3_col1\" class=\"data row3 col1\" >102</td>\n",
       "    </tr>\n",
       "    <tr>\n",
       "      <td id=\"T_d717d_row4_col0\" class=\"data row4 col0\" >★☆☆☆☆</td>\n",
       "      <td id=\"T_d717d_row4_col1\" class=\"data row4 col1\" >84</td>\n",
       "    </tr>\n",
       "  </tbody>\n",
       "</table>\n"
      ],
      "text/plain": [
       "<pandas.io.formats.style.Styler at 0x7f79c3988b00>"
      ]
     },
     "metadata": {},
     "output_type": "display_data"
    }
   ],
   "source": [
    "sas_by_rating_df : DataFrame = reading_list_manager.get_sas_by_rating(books_df = books_df)\n",
    "\n",
    "if setting_bag.show_sas_by_rating_df:\n",
    "    display(dpp.hide_index(sas_by_rating_df.head(n = setting_bag.n_generic)))\n"
   ]
  },
  {
   "cell_type": "code",
   "execution_count": 166,
   "metadata": {},
   "outputs": [
    {
     "data": {
      "text/html": [
       "<style type=\"text/css\">\n",
       "</style>\n",
       "<table id=\"T_c0c6d\">\n",
       "  <thead>\n",
       "    <tr>\n",
       "      <th id=\"T_c0c6d_level0_col0\" class=\"col_heading level0 col0\" >Title</th>\n",
       "      <th id=\"T_c0c6d_level0_col1\" class=\"col_heading level0 col1\" >ReadYear</th>\n",
       "      <th id=\"T_c0c6d_level0_col2\" class=\"col_heading level0 col2\" >Topic</th>\n",
       "      <th id=\"T_c0c6d_level0_col3\" class=\"col_heading level0 col3\" >Publisher</th>\n",
       "      <th id=\"T_c0c6d_level0_col4\" class=\"col_heading level0 col4\" >Rating</th>\n",
       "      <th id=\"T_c0c6d_level0_col5\" class=\"col_heading level0 col5\" >KBSize</th>\n",
       "      <th id=\"T_c0c6d_level0_col6\" class=\"col_heading level0 col6\" >A4Sheets</th>\n",
       "    </tr>\n",
       "  </thead>\n",
       "  <tbody>\n",
       "    <tr>\n",
       "      <td id=\"T_c0c6d_row0_col0\" class=\"data row0 col0\" >Machine Learning For Dummies</td>\n",
       "      <td id=\"T_c0c6d_row0_col1\" class=\"data row0 col1\" >2017</td>\n",
       "      <td id=\"T_c0c6d_row0_col2\" class=\"data row0 col2\" >Data Analysis, Data Science, ML</td>\n",
       "      <td id=\"T_c0c6d_row0_col3\" class=\"data row0 col3\" >Wiley</td>\n",
       "      <td id=\"T_c0c6d_row0_col4\" class=\"data row0 col4\" >4</td>\n",
       "      <td id=\"T_c0c6d_row0_col5\" class=\"data row0 col5\" >3732</td>\n",
       "      <td id=\"T_c0c6d_row0_col6\" class=\"data row0 col6\" >8</td>\n",
       "    </tr>\n",
       "    <tr>\n",
       "      <td id=\"T_c0c6d_row1_col0\" class=\"data row1 col0\" >Machine Learning Projects for .NET Developers</td>\n",
       "      <td id=\"T_c0c6d_row1_col1\" class=\"data row1 col1\" >2017</td>\n",
       "      <td id=\"T_c0c6d_row1_col2\" class=\"data row1 col2\" >Data Analysis, Data Science, ML</td>\n",
       "      <td id=\"T_c0c6d_row1_col3\" class=\"data row1 col3\" >Apress</td>\n",
       "      <td id=\"T_c0c6d_row1_col4\" class=\"data row1 col4\" >4</td>\n",
       "      <td id=\"T_c0c6d_row1_col5\" class=\"data row1 col5\" >3272</td>\n",
       "      <td id=\"T_c0c6d_row1_col6\" class=\"data row1 col6\" >7</td>\n",
       "    </tr>\n",
       "    <tr>\n",
       "      <td id=\"T_c0c6d_row2_col0\" class=\"data row2 col0\" >Producing Open Source Software</td>\n",
       "      <td id=\"T_c0c6d_row2_col1\" class=\"data row2 col1\" >2016</td>\n",
       "      <td id=\"T_c0c6d_row2_col2\" class=\"data row2 col2\" >Software Engineering</td>\n",
       "      <td id=\"T_c0c6d_row2_col3\" class=\"data row2 col3\" >O'Reilly</td>\n",
       "      <td id=\"T_c0c6d_row2_col4\" class=\"data row2 col4\" >2</td>\n",
       "      <td id=\"T_c0c6d_row2_col5\" class=\"data row2 col5\" >2332</td>\n",
       "      <td id=\"T_c0c6d_row2_col6\" class=\"data row2 col6\" >5</td>\n",
       "    </tr>\n",
       "    <tr>\n",
       "      <td id=\"T_c0c6d_row3_col0\" class=\"data row3 col0\" >Microsoft SQL Server 2012 Integration Services</td>\n",
       "      <td id=\"T_c0c6d_row3_col1\" class=\"data row3 col1\" >2019</td>\n",
       "      <td id=\"T_c0c6d_row3_col2\" class=\"data row3 col2\" >BI, Data Warehousing, PowerBI</td>\n",
       "      <td id=\"T_c0c6d_row3_col3\" class=\"data row3 col3\" >Wiley</td>\n",
       "      <td id=\"T_c0c6d_row3_col4\" class=\"data row3 col4\" >3</td>\n",
       "      <td id=\"T_c0c6d_row3_col5\" class=\"data row3 col5\" >2320</td>\n",
       "      <td id=\"T_c0c6d_row3_col6\" class=\"data row3 col6\" >5</td>\n",
       "    </tr>\n",
       "    <tr>\n",
       "      <td id=\"T_c0c6d_row4_col0\" class=\"data row4 col0\" >Infrastructure As Code</td>\n",
       "      <td id=\"T_c0c6d_row4_col1\" class=\"data row4 col1\" >2019</td>\n",
       "      <td id=\"T_c0c6d_row4_col2\" class=\"data row4 col2\" >Development Tools</td>\n",
       "      <td id=\"T_c0c6d_row4_col3\" class=\"data row4 col3\" >O'Reilly</td>\n",
       "      <td id=\"T_c0c6d_row4_col4\" class=\"data row4 col4\" >4</td>\n",
       "      <td id=\"T_c0c6d_row4_col5\" class=\"data row4 col5\" >2269</td>\n",
       "      <td id=\"T_c0c6d_row4_col6\" class=\"data row4 col6\" >5</td>\n",
       "    </tr>\n",
       "    <tr>\n",
       "      <td id=\"T_c0c6d_row5_col0\" class=\"data row5 col0\" >Microsoft Visual C# 2013 Step by Step</td>\n",
       "      <td id=\"T_c0c6d_row5_col1\" class=\"data row5 col1\" >2016</td>\n",
       "      <td id=\"T_c0c6d_row5_col2\" class=\"data row5 col2\" >C#</td>\n",
       "      <td id=\"T_c0c6d_row5_col3\" class=\"data row5 col3\" >Microsoft Press</td>\n",
       "      <td id=\"T_c0c6d_row5_col4\" class=\"data row5 col4\" >4</td>\n",
       "      <td id=\"T_c0c6d_row5_col5\" class=\"data row5 col5\" >2179</td>\n",
       "      <td id=\"T_c0c6d_row5_col6\" class=\"data row5 col6\" >5</td>\n",
       "    </tr>\n",
       "    <tr>\n",
       "      <td id=\"T_c0c6d_row6_col0\" class=\"data row6 col0\" >Microservices in .NET Core</td>\n",
       "      <td id=\"T_c0c6d_row6_col1\" class=\"data row6 col1\" >2019</td>\n",
       "      <td id=\"T_c0c6d_row6_col2\" class=\"data row6 col2\" >C#</td>\n",
       "      <td id=\"T_c0c6d_row6_col3\" class=\"data row6 col3\" >Manning</td>\n",
       "      <td id=\"T_c0c6d_row6_col4\" class=\"data row6 col4\" >2</td>\n",
       "      <td id=\"T_c0c6d_row6_col5\" class=\"data row6 col5\" >2016</td>\n",
       "      <td id=\"T_c0c6d_row6_col6\" class=\"data row6 col6\" >5</td>\n",
       "    </tr>\n",
       "    <tr>\n",
       "      <td id=\"T_c0c6d_row7_col0\" class=\"data row7 col0\" >Head First Design Patterns</td>\n",
       "      <td id=\"T_c0c6d_row7_col1\" class=\"data row7 col1\" >2017</td>\n",
       "      <td id=\"T_c0c6d_row7_col2\" class=\"data row7 col2\" >Software Engineering</td>\n",
       "      <td id=\"T_c0c6d_row7_col3\" class=\"data row7 col3\" >O'Reilly</td>\n",
       "      <td id=\"T_c0c6d_row7_col4\" class=\"data row7 col4\" >5</td>\n",
       "      <td id=\"T_c0c6d_row7_col5\" class=\"data row7 col5\" >1753</td>\n",
       "      <td id=\"T_c0c6d_row7_col6\" class=\"data row7 col6\" >4</td>\n",
       "    </tr>\n",
       "    <tr>\n",
       "      <td id=\"T_c0c6d_row8_col0\" class=\"data row8 col0\" >Exam Ref 70-768 Developing SQL Data Models</td>\n",
       "      <td id=\"T_c0c6d_row8_col1\" class=\"data row8 col1\" >2019</td>\n",
       "      <td id=\"T_c0c6d_row8_col2\" class=\"data row8 col2\" >BI, Data Warehousing, PowerBI</td>\n",
       "      <td id=\"T_c0c6d_row8_col3\" class=\"data row8 col3\" >Pearson Education</td>\n",
       "      <td id=\"T_c0c6d_row8_col4\" class=\"data row8 col4\" >5</td>\n",
       "      <td id=\"T_c0c6d_row8_col5\" class=\"data row8 col5\" >1679</td>\n",
       "      <td id=\"T_c0c6d_row8_col6\" class=\"data row8 col6\" >4</td>\n",
       "    </tr>\n",
       "    <tr>\n",
       "      <td id=\"T_c0c6d_row9_col0\" class=\"data row9 col0\" >Algorithms An illustrated guide for programmers and other curious people </td>\n",
       "      <td id=\"T_c0c6d_row9_col1\" class=\"data row9 col1\" >2017</td>\n",
       "      <td id=\"T_c0c6d_row9_col2\" class=\"data row9 col2\" >Software Engineering</td>\n",
       "      <td id=\"T_c0c6d_row9_col3\" class=\"data row9 col3\" >Manning</td>\n",
       "      <td id=\"T_c0c6d_row9_col4\" class=\"data row9 col4\" >5</td>\n",
       "      <td id=\"T_c0c6d_row9_col5\" class=\"data row9 col5\" >1650</td>\n",
       "      <td id=\"T_c0c6d_row9_col6\" class=\"data row9 col6\" >4</td>\n",
       "    </tr>\n",
       "  </tbody>\n",
       "</table>\n"
      ],
      "text/plain": [
       "<pandas.io.formats.style.Styler at 0x7f79c8e2e7b0>"
      ]
     },
     "metadata": {},
     "output_type": "display_data"
    }
   ],
   "source": [
    "rl_by_kbsize_df : DataFrame = reading_list_manager.get_reading_list_by_kbsize(books_df = books_df)\n",
    "\n",
    "if setting_bag.show_reading_list_by_kbsize_df:\n",
    "    display(dpp.hide_index(rl_by_kbsize_df))\n"
   ]
  },
  {
   "cell_type": "code",
   "execution_count": 167,
   "metadata": {},
   "outputs": [
    {
     "data": {
      "text/html": [
       "<style type=\"text/css\">\n",
       "</style>\n",
       "<table id=\"T_257a5\">\n",
       "  <thead>\n",
       "    <tr>\n",
       "      <th id=\"T_257a5_level0_col0\" class=\"col_heading level0 col0\" >Topic</th>\n",
       "      <th id=\"T_257a5_level0_col1\" class=\"col_heading level0 col1\" >Books</th>\n",
       "      <th id=\"T_257a5_level0_col2\" class=\"col_heading level0 col2\" >Trend</th>\n",
       "    </tr>\n",
       "  </thead>\n",
       "  <tbody>\n",
       "    <tr>\n",
       "      <td id=\"T_257a5_row0_col0\" class=\"data row0 col0\" >AI</td>\n",
       "      <td id=\"T_257a5_row0_col1\" class=\"data row0 col1\" >[0, 0, 0, 0, 0, 0, 0, 0, 5]</td>\n",
       "      <td id=\"T_257a5_row0_col2\" class=\"data row0 col2\" >▁▁▁▁▁▁▁▁▂</td>\n",
       "    </tr>\n",
       "    <tr>\n",
       "      <td id=\"T_257a5_row1_col0\" class=\"data row1 col0\" >BI, Data Warehousing, PowerBI</td>\n",
       "      <td id=\"T_257a5_row1_col1\" class=\"data row1 col1\" >[0, 1, 9, 11, 0, 0, 0, 0, 2]</td>\n",
       "      <td id=\"T_257a5_row1_col2\" class=\"data row1 col2\" >▁▁▃▄▁▁▁▁▂</td>\n",
       "    </tr>\n",
       "    <tr>\n",
       "      <td id=\"T_257a5_row2_col0\" class=\"data row2 col0\" >C#</td>\n",
       "      <td id=\"T_257a5_row2_col1\" class=\"data row2 col1\" >[10, 14, 4, 17, 8, 3, 0, 0, 0]</td>\n",
       "      <td id=\"T_257a5_row2_col2\" class=\"data row2 col2\" >▄▅▂▅▃▂▁▁▁</td>\n",
       "    </tr>\n",
       "    <tr>\n",
       "      <td id=\"T_257a5_row3_col0\" class=\"data row3 col0\" >Cloud Vendors</td>\n",
       "      <td id=\"T_257a5_row3_col1\" class=\"data row3 col1\" >[0, 0, 0, 0, 0, 2, 0, 1, 0]</td>\n",
       "      <td id=\"T_257a5_row3_col2\" class=\"data row3 col2\" >▁▁▁▁▁▂▁▁▁</td>\n",
       "    </tr>\n",
       "    <tr>\n",
       "      <td id=\"T_257a5_row4_col0\" class=\"data row4 col0\" >Data Analysis, Data Science, ML</td>\n",
       "      <td id=\"T_257a5_row4_col1\" class=\"data row4 col1\" >[5, 5, 8, 5, 2, 0, 1, 6, 2]</td>\n",
       "      <td id=\"T_257a5_row4_col2\" class=\"data row4 col2\" >▂▂▃▂▂▁▁▃▂</td>\n",
       "    </tr>\n",
       "    <tr>\n",
       "      <td id=\"T_257a5_row5_col0\" class=\"data row5 col0\" >Development Tools</td>\n",
       "      <td id=\"T_257a5_row5_col1\" class=\"data row5 col1\" >[6, 1, 0, 1, 2, 3, 0, 0, 1]</td>\n",
       "      <td id=\"T_257a5_row5_col2\" class=\"data row5 col2\" >▃▁▁▁▂▂▁▁▁</td>\n",
       "    </tr>\n",
       "    <tr>\n",
       "      <td id=\"T_257a5_row6_col0\" class=\"data row6 col0\" >Docker</td>\n",
       "      <td id=\"T_257a5_row6_col1\" class=\"data row6 col1\" >[0, 1, 9, 0, 0, 2, 0, 0, 0]</td>\n",
       "      <td id=\"T_257a5_row6_col2\" class=\"data row6 col2\" >▁▁▃▁▁▂▁▁▁</td>\n",
       "    </tr>\n",
       "    <tr>\n",
       "      <td id=\"T_257a5_row7_col0\" class=\"data row7 col0\" >Electronics, IoT</td>\n",
       "      <td id=\"T_257a5_row7_col1\" class=\"data row7 col1\" >[0, 4, 0, 0, 0, 0, 0, 0, 0]</td>\n",
       "      <td id=\"T_257a5_row7_col2\" class=\"data row7 col2\" >▁▂▁▁▁▁▁▁▁</td>\n",
       "    </tr>\n",
       "    <tr>\n",
       "      <td id=\"T_257a5_row8_col0\" class=\"data row8 col0\" >Entrepreneurship, Learning</td>\n",
       "      <td id=\"T_257a5_row8_col1\" class=\"data row8 col1\" >[0, 1, 0, 0, 4, 0, 0, 1, 0]</td>\n",
       "      <td id=\"T_257a5_row8_col2\" class=\"data row8 col2\" >▁▁▁▁▂▁▁▁▁</td>\n",
       "    </tr>\n",
       "    <tr>\n",
       "      <td id=\"T_257a5_row9_col0\" class=\"data row9 col0\" >Javascript</td>\n",
       "      <td id=\"T_257a5_row9_col1\" class=\"data row9 col1\" >[0, 2, 0, 0, 0, 0, 0, 0, 0]</td>\n",
       "      <td id=\"T_257a5_row9_col2\" class=\"data row9 col2\" >▁▂▁▁▁▁▁▁▁</td>\n",
       "    </tr>\n",
       "    <tr>\n",
       "      <td id=\"T_257a5_row10_col0\" class=\"data row10 col0\" >Linux</td>\n",
       "      <td id=\"T_257a5_row10_col1\" class=\"data row10 col1\" >[0, 0, 0, 1, 0, 0, 0, 0, 2]</td>\n",
       "      <td id=\"T_257a5_row10_col2\" class=\"data row10 col2\" >▁▁▁▁▁▁▁▁▂</td>\n",
       "    </tr>\n",
       "    <tr>\n",
       "      <td id=\"T_257a5_row11_col0\" class=\"data row11 col0\" >MariaDB</td>\n",
       "      <td id=\"T_257a5_row11_col1\" class=\"data row11 col1\" >[0, 0, 4, 0, 0, 0, 0, 0, 0]</td>\n",
       "      <td id=\"T_257a5_row11_col2\" class=\"data row11 col2\" >▁▁▂▁▁▁▁▁▁</td>\n",
       "    </tr>\n",
       "    <tr>\n",
       "      <td id=\"T_257a5_row12_col0\" class=\"data row12 col0\" >Powershell</td>\n",
       "      <td id=\"T_257a5_row12_col1\" class=\"data row12 col1\" >[0, 1, 0, 0, 3, 0, 0, 0, 0]</td>\n",
       "      <td id=\"T_257a5_row12_col2\" class=\"data row12 col2\" >▁▁▁▁▂▁▁▁▁</td>\n",
       "    </tr>\n",
       "    <tr>\n",
       "      <td id=\"T_257a5_row13_col0\" class=\"data row13 col0\" >Product Management</td>\n",
       "      <td id=\"T_257a5_row13_col1\" class=\"data row13 col1\" >[0, 0, 0, 0, 1, 0, 0, 0, 9]</td>\n",
       "      <td id=\"T_257a5_row13_col2\" class=\"data row13 col2\" >▁▁▁▁▁▁▁▁▃</td>\n",
       "    </tr>\n",
       "    <tr>\n",
       "      <td id=\"T_257a5_row14_col0\" class=\"data row14 col0\" >Python</td>\n",
       "      <td id=\"T_257a5_row14_col1\" class=\"data row14 col1\" >[1, 1, 0, 0, 1, 2, 0, 13, 18]</td>\n",
       "      <td id=\"T_257a5_row14_col2\" class=\"data row14 col2\" >▁▁▁▁▁▂▁▄▆</td>\n",
       "    </tr>\n",
       "    <tr>\n",
       "      <td id=\"T_257a5_row15_col0\" class=\"data row15 col0\" >Regular Expressions</td>\n",
       "      <td id=\"T_257a5_row15_col1\" class=\"data row15 col1\" >[0, 2, 0, 0, 0, 0, 0, 0, 0]</td>\n",
       "      <td id=\"T_257a5_row15_col2\" class=\"data row15 col2\" >▁▂▁▁▁▁▁▁▁</td>\n",
       "    </tr>\n",
       "    <tr>\n",
       "      <td id=\"T_257a5_row16_col0\" class=\"data row16 col0\" >SQL Server</td>\n",
       "      <td id=\"T_257a5_row16_col1\" class=\"data row16 col1\" >[0, 2, 2, 2, 0, 1, 0, 0, 0]</td>\n",
       "      <td id=\"T_257a5_row16_col2\" class=\"data row16 col2\" >▁▂▂▂▁▁▁▁▁</td>\n",
       "    </tr>\n",
       "    <tr>\n",
       "      <td id=\"T_257a5_row17_col0\" class=\"data row17 col0\" >Software Engineering</td>\n",
       "      <td id=\"T_257a5_row17_col1\" class=\"data row17 col1\" >[21, 27, 12, 5, 2, 0, 0, 4, 8]</td>\n",
       "      <td id=\"T_257a5_row17_col2\" class=\"data row17 col2\" >▆█▄▂▂▁▁▂▃</td>\n",
       "    </tr>\n",
       "  </tbody>\n",
       "</table>\n"
      ],
      "text/plain": [
       "<pandas.io.formats.style.Styler at 0x7f79c130d8b0>"
      ]
     },
     "metadata": {},
     "output_type": "display_data"
    }
   ],
   "source": [
    "yt_by_topic_df : DataFrame = reading_list_manager.get_yearly_trend_by_topic(books_df = books_df)\n",
    "\n",
    "if setting_bag.show_yearly_trend_by_topic_df:\n",
    "    display(dpp.hide_index(yt_by_topic_df))\n"
   ]
  },
  {
   "cell_type": "code",
   "execution_count": 168,
   "metadata": {},
   "outputs": [
    {
     "data": {
      "image/png": "[encoded data removed]",
      "text/plain": [
       "<Figure size 500x500 with 1 Axes>"
      ]
     },
     "metadata": {},
     "output_type": "display_data"
    }
   ],
   "source": [
    "if setting_bag.show_books_by_year_box_plot:\n",
    "    PlotManager().show_box_plot(df = books_df, x_name = \"Year\")\n"
   ]
  },
  {
   "cell_type": "code",
   "execution_count": 169,
   "metadata": {},
   "outputs": [
    {
     "data": {
      "image/png": "[encoded data removed]",
      "text/plain": [
       "<Figure size 500x500 with 1 Axes>"
      ]
     },
     "metadata": {},
     "output_type": "display_data"
    }
   ],
   "source": [
    "if setting_bag.show_reading_list_by_kbsize_box_plot:\n",
    "    PlotManager().show_box_plot(df = rl_by_kbsize_df, x_name = \"A4Sheets\")\n"
   ]
  },
  {
   "attachments": {},
   "cell_type": "markdown",
   "metadata": {},
   "source": [
    "#### Main : Markdown Files"
   ]
  },
  {
   "cell_type": "code",
   "execution_count": 170,
   "metadata": {},
   "outputs": [
    {
     "name": "stdout",
     "output_type": "stream",
     "text": [
      "|   Years |   Books |   Pages | TotalSpend   | LastUpdate   |\n",
      "|--------:|--------:|--------:|:-------------|:-------------|\n",
      "|       9 |     304 |   83104 | $8581.65     | 2024-09-22   |\n",
      "\n"
     ]
    }
   ],
   "source": [
    "markdown_processor : MarkdownProcessor = MarkdownProcessor(component_bag = ComponentBag(), setting_bag = setting_bag)\n",
    "markdown_processor.try_show_readme_md(rolling_total_df = rolling_total_df)"
   ]
  },
  {
   "cell_type": "code",
   "execution_count": 171,
   "metadata": {},
   "outputs": [],
   "source": [
    "markdown_processor.try_show_and_save_reading_list_by_month_md(\n",
    "    sas_by_month_tpl = sas_by_month_tpl, \n",
    "    sas_by_year_street_price_df = sas_by_year_street_price_df)"
   ]
  },
  {
   "cell_type": "code",
   "execution_count": 172,
   "metadata": {},
   "outputs": [],
   "source": [
    "markdown_processor.try_show_and_save_reading_list_by_publisher_md(sas_by_publisher_tpl = sas_by_publisher_tpl)"
   ]
  },
  {
   "cell_type": "code",
   "execution_count": 173,
   "metadata": {},
   "outputs": [],
   "source": [
    "markdown_processor.try_show_and_save_reading_list_by_rating_md(sas_by_rating_df = sas_by_rating_df)"
   ]
  },
  {
   "cell_type": "code",
   "execution_count": 174,
   "metadata": {},
   "outputs": [],
   "source": [
    "markdown_processor.try_show_and_save_reading_list_by_topic_md(sas_by_topic_df = sas_by_topic_df)"
   ]
  },
  {
   "cell_type": "code",
   "execution_count": 175,
   "metadata": {},
   "outputs": [],
   "source": [
    "markdown_processor.try_show_and_save_reading_list_topic_trend_md(yt_by_topic_df = yt_by_topic_df)"
   ]
  },
  {
   "cell_type": "code",
   "execution_count": 176,
   "metadata": {},
   "outputs": [],
   "source": [
    "markdown_processor.try_show_and_save_reading_list_md(books_df = books_df)"
   ]
  }
 ],
 "metadata": {
  "kernelspec": {
   "display_name": "Python 3",
   "language": "python",
   "name": "python3"
  },
  "language_info": {
   "codemirror_mode": {
    "name": "ipython",
    "version": 3
   },
   "file_extension": ".py",
   "mimetype": "text/x-python",
   "name": "python",
   "nbconvert_exporter": "python",
   "pygments_lexer": "ipython3",
   "version": "3.12.5"
  },
  "orig_nbformat": 4,
  "polyglot_notebook": {
   "kernelInfo": {
    "defaultKernelName": "csharp",
    "items": [
     {
      "aliases": [],
      "name": "csharp"
     }
    ]
   }
  }
 },
 "nbformat": 4,
 "nbformat_minor": 2
}
