{
 "cells": [
  {
   "attachments": {},
   "cell_type": "markdown",
   "metadata": {},
   "source": [
    "|||\n",
    "|---|---|\n",
    "|Title|nwreadinglist|\n",
    "|Author|numbworks|\n",
    "|Version|4.0.0|\n",
    "||Please check [docs/docs-nwreadinglist.md](../docs/docs-nwreadinglist.md) before proceeding.|"
   ]
  },
  {
   "attachments": {},
   "cell_type": "markdown",
   "metadata": {},
   "source": [
    "#### Global Modules"
   ]
  },
  {
   "cell_type": "code",
   "execution_count": 61,
   "metadata": {},
   "outputs": [],
   "source": [
    "from typing import Optional\n",
    "from nwpackageversions import LanguageChecker, RequirementChecker, RequirementSummary, LambdaCollection"
   ]
  },
  {
   "attachments": {},
   "cell_type": "markdown",
   "metadata": {},
   "source": [
    "#### Local Modules"
   ]
  },
  {
   "cell_type": "code",
   "execution_count": 62,
   "metadata": {},
   "outputs": [],
   "source": [
    "from nwreadinglist import DefaultPathProvider, YearProvider, SettingBag, ComponentBag, ReadingListProcessor"
   ]
  },
  {
   "cell_type": "markdown",
   "metadata": {},
   "source": [
    "#### Language/Requirement Checks"
   ]
  },
  {
   "cell_type": "code",
   "execution_count": 63,
   "metadata": {},
   "outputs": [
    {
     "name": "stdout",
     "output_type": "stream",
     "text": [
      "The installed Python version is matching the expected one (installed: '3.12.5', expected: '3.12.5').\n"
     ]
    }
   ],
   "source": [
    "enable_language_status_check : bool = True\n",
    "enable_requirement_status_check : bool = False\n",
    "\n",
    "if enable_language_status_check:\n",
    "    language_status : str = LanguageChecker().get_version_status(required = (3, 12, 5))\n",
    "    print(language_status)\n",
    "\n",
    "if enable_requirement_status_check:\n",
    "    requirement_checker : RequirementChecker = RequirementChecker(logging_function = LambdaCollection().do_nothing_function())\n",
    "    dockerfile_path : str = requirement_checker.get_default_devcointainer_dockerfile_path()\n",
    "    requirement_status : Optional[RequirementSummary] = requirement_checker.try_check(file_path = dockerfile_path)\n",
    "    print(requirement_status)"
   ]
  },
  {
   "attachments": {},
   "cell_type": "markdown",
   "metadata": {},
   "source": [
    "#### Functions : Temp"
   ]
  },
  {
   "cell_type": "code",
   "execution_count": null,
   "metadata": {},
   "outputs": [],
   "source": []
  },
  {
   "attachments": {},
   "cell_type": "markdown",
   "metadata": {},
   "source": [
    "#### Settings"
   ]
  },
  {
   "cell_type": "code",
   "execution_count": 64,
   "metadata": {},
   "outputs": [],
   "source": [
    "setting_bag : SettingBag = SettingBag(\n",
    "    options_rl = [],\n",
    "    options_rl_asrt = [\"show\"],\n",
    "    options_rl_by_kbsize = [\"show\"],\n",
    "    options_sas_by_month = [\"show\"],\n",
    "    options_sas_by_publisher = [\"show\"],\n",
    "    options_sas_by_rating = [\"show\"],\n",
    "    options_sas_by_topic = [\"show\"],\n",
    "    options_sas_by_year_street_price = [\"show\"],\n",
    "    read_years = YearProvider().get_all_years(),\n",
    "    excel_path = DefaultPathProvider().get_default_reading_list_path(),\n",
    "    excel_books_nrows = 308\n",
    ")"
   ]
  },
  {
   "attachments": {},
   "cell_type": "markdown",
   "metadata": {},
   "source": [
    "#### Main : Analysis"
   ]
  },
  {
   "cell_type": "code",
   "execution_count": 65,
   "metadata": {},
   "outputs": [],
   "source": [
    "reading_list_processor : ReadingListProcessor = ReadingListProcessor(component_bag = ComponentBag(), setting_bag = setting_bag)\n",
    "reading_list_processor.initialize()\n",
    "reading_list_processor.process_rl()"
   ]
  },
  {
   "cell_type": "code",
   "execution_count": 66,
   "metadata": {},
   "outputs": [
    {
     "data": {
      "text/html": [
       "<style type=\"text/css\">\n",
       "</style>\n",
       "<table id=\"T_64a09\">\n",
       "  <thead>\n",
       "    <tr>\n",
       "      <th id=\"T_64a09_level0_col0\" class=\"col_heading level0 col0\" >Years</th>\n",
       "      <th id=\"T_64a09_level0_col1\" class=\"col_heading level0 col1\" >Books</th>\n",
       "      <th id=\"T_64a09_level0_col2\" class=\"col_heading level0 col2\" >Pages</th>\n",
       "      <th id=\"T_64a09_level0_col3\" class=\"col_heading level0 col3\" >TotalSpend</th>\n",
       "      <th id=\"T_64a09_level0_col4\" class=\"col_heading level0 col4\" >LastUpdate</th>\n",
       "    </tr>\n",
       "  </thead>\n",
       "  <tbody>\n",
       "    <tr>\n",
       "      <td id=\"T_64a09_row0_col0\" class=\"data row0 col0\" >9</td>\n",
       "      <td id=\"T_64a09_row0_col1\" class=\"data row0 col1\" >307</td>\n",
       "      <td id=\"T_64a09_row0_col2\" class=\"data row0 col2\" >84121</td>\n",
       "      <td id=\"T_64a09_row0_col3\" class=\"data row0 col3\" >$8750.62</td>\n",
       "      <td id=\"T_64a09_row0_col4\" class=\"data row0 col4\" >2024-11-10</td>\n",
       "    </tr>\n",
       "  </tbody>\n",
       "</table>\n"
      ],
      "text/plain": [
       "<pandas.io.formats.style.Styler at 0x7f0ed8280e30>"
      ]
     },
     "metadata": {},
     "output_type": "display_data"
    }
   ],
   "source": [
    "reading_list_processor.process_rl_asrt()"
   ]
  },
  {
   "cell_type": "code",
   "execution_count": 67,
   "metadata": {},
   "outputs": [
    {
     "data": {
      "text/html": [
       "<style type=\"text/css\">\n",
       "</style>\n",
       "<table id=\"T_3b63d\">\n",
       "  <thead>\n",
       "    <tr>\n",
       "      <th id=\"T_3b63d_level0_col0\" class=\"col_heading level0 col0\" >Title</th>\n",
       "      <th id=\"T_3b63d_level0_col1\" class=\"col_heading level0 col1\" >ReadYear</th>\n",
       "      <th id=\"T_3b63d_level0_col2\" class=\"col_heading level0 col2\" >Topic</th>\n",
       "      <th id=\"T_3b63d_level0_col3\" class=\"col_heading level0 col3\" >Publisher</th>\n",
       "      <th id=\"T_3b63d_level0_col4\" class=\"col_heading level0 col4\" >Rating</th>\n",
       "      <th id=\"T_3b63d_level0_col5\" class=\"col_heading level0 col5\" >KBSize</th>\n",
       "      <th id=\"T_3b63d_level0_col6\" class=\"col_heading level0 col6\" >A4Sheets</th>\n",
       "    </tr>\n",
       "  </thead>\n",
       "  <tbody>\n",
       "    <tr>\n",
       "      <td id=\"T_3b63d_row0_col0\" class=\"data row0 col0\" >Machine Learning For Dummies</td>\n",
       "      <td id=\"T_3b63d_row0_col1\" class=\"data row0 col1\" >2017</td>\n",
       "      <td id=\"T_3b63d_row0_col2\" class=\"data row0 col2\" >Data Analysis, Data Science, ML</td>\n",
       "      <td id=\"T_3b63d_row0_col3\" class=\"data row0 col3\" >Wiley</td>\n",
       "      <td id=\"T_3b63d_row0_col4\" class=\"data row0 col4\" >4</td>\n",
       "      <td id=\"T_3b63d_row0_col5\" class=\"data row0 col5\" >3732</td>\n",
       "      <td id=\"T_3b63d_row0_col6\" class=\"data row0 col6\" >8</td>\n",
       "    </tr>\n",
       "    <tr>\n",
       "      <td id=\"T_3b63d_row1_col0\" class=\"data row1 col0\" >Machine Learning Projects for .NET Developers</td>\n",
       "      <td id=\"T_3b63d_row1_col1\" class=\"data row1 col1\" >2017</td>\n",
       "      <td id=\"T_3b63d_row1_col2\" class=\"data row1 col2\" >Data Analysis, Data Science, ML</td>\n",
       "      <td id=\"T_3b63d_row1_col3\" class=\"data row1 col3\" >Apress</td>\n",
       "      <td id=\"T_3b63d_row1_col4\" class=\"data row1 col4\" >4</td>\n",
       "      <td id=\"T_3b63d_row1_col5\" class=\"data row1 col5\" >3272</td>\n",
       "      <td id=\"T_3b63d_row1_col6\" class=\"data row1 col6\" >7</td>\n",
       "    </tr>\n",
       "    <tr>\n",
       "      <td id=\"T_3b63d_row2_col0\" class=\"data row2 col0\" >Producing Open Source Software</td>\n",
       "      <td id=\"T_3b63d_row2_col1\" class=\"data row2 col1\" >2016</td>\n",
       "      <td id=\"T_3b63d_row2_col2\" class=\"data row2 col2\" >Software Engineering</td>\n",
       "      <td id=\"T_3b63d_row2_col3\" class=\"data row2 col3\" >O'Reilly</td>\n",
       "      <td id=\"T_3b63d_row2_col4\" class=\"data row2 col4\" >2</td>\n",
       "      <td id=\"T_3b63d_row2_col5\" class=\"data row2 col5\" >2332</td>\n",
       "      <td id=\"T_3b63d_row2_col6\" class=\"data row2 col6\" >5</td>\n",
       "    </tr>\n",
       "    <tr>\n",
       "      <td id=\"T_3b63d_row3_col0\" class=\"data row3 col0\" >Microsoft SQL Server 2012 Integration Services</td>\n",
       "      <td id=\"T_3b63d_row3_col1\" class=\"data row3 col1\" >2019</td>\n",
       "      <td id=\"T_3b63d_row3_col2\" class=\"data row3 col2\" >BI, Data Warehousing, PowerBI</td>\n",
       "      <td id=\"T_3b63d_row3_col3\" class=\"data row3 col3\" >Wiley</td>\n",
       "      <td id=\"T_3b63d_row3_col4\" class=\"data row3 col4\" >3</td>\n",
       "      <td id=\"T_3b63d_row3_col5\" class=\"data row3 col5\" >2320</td>\n",
       "      <td id=\"T_3b63d_row3_col6\" class=\"data row3 col6\" >5</td>\n",
       "    </tr>\n",
       "    <tr>\n",
       "      <td id=\"T_3b63d_row4_col0\" class=\"data row4 col0\" >Infrastructure As Code</td>\n",
       "      <td id=\"T_3b63d_row4_col1\" class=\"data row4 col1\" >2019</td>\n",
       "      <td id=\"T_3b63d_row4_col2\" class=\"data row4 col2\" >Development Tools</td>\n",
       "      <td id=\"T_3b63d_row4_col3\" class=\"data row4 col3\" >O'Reilly</td>\n",
       "      <td id=\"T_3b63d_row4_col4\" class=\"data row4 col4\" >4</td>\n",
       "      <td id=\"T_3b63d_row4_col5\" class=\"data row4 col5\" >2269</td>\n",
       "      <td id=\"T_3b63d_row4_col6\" class=\"data row4 col6\" >5</td>\n",
       "    </tr>\n",
       "    <tr>\n",
       "      <td id=\"T_3b63d_row5_col0\" class=\"data row5 col0\" >Microsoft Visual C# 2013 Step by Step</td>\n",
       "      <td id=\"T_3b63d_row5_col1\" class=\"data row5 col1\" >2016</td>\n",
       "      <td id=\"T_3b63d_row5_col2\" class=\"data row5 col2\" >C#</td>\n",
       "      <td id=\"T_3b63d_row5_col3\" class=\"data row5 col3\" >Microsoft Press</td>\n",
       "      <td id=\"T_3b63d_row5_col4\" class=\"data row5 col4\" >4</td>\n",
       "      <td id=\"T_3b63d_row5_col5\" class=\"data row5 col5\" >2179</td>\n",
       "      <td id=\"T_3b63d_row5_col6\" class=\"data row5 col6\" >5</td>\n",
       "    </tr>\n",
       "    <tr>\n",
       "      <td id=\"T_3b63d_row6_col0\" class=\"data row6 col0\" >Microservices in .NET Core</td>\n",
       "      <td id=\"T_3b63d_row6_col1\" class=\"data row6 col1\" >2019</td>\n",
       "      <td id=\"T_3b63d_row6_col2\" class=\"data row6 col2\" >C#</td>\n",
       "      <td id=\"T_3b63d_row6_col3\" class=\"data row6 col3\" >Manning</td>\n",
       "      <td id=\"T_3b63d_row6_col4\" class=\"data row6 col4\" >2</td>\n",
       "      <td id=\"T_3b63d_row6_col5\" class=\"data row6 col5\" >2016</td>\n",
       "      <td id=\"T_3b63d_row6_col6\" class=\"data row6 col6\" >5</td>\n",
       "    </tr>\n",
       "    <tr>\n",
       "      <td id=\"T_3b63d_row7_col0\" class=\"data row7 col0\" >Head First Design Patterns</td>\n",
       "      <td id=\"T_3b63d_row7_col1\" class=\"data row7 col1\" >2017</td>\n",
       "      <td id=\"T_3b63d_row7_col2\" class=\"data row7 col2\" >Software Engineering</td>\n",
       "      <td id=\"T_3b63d_row7_col3\" class=\"data row7 col3\" >O'Reilly</td>\n",
       "      <td id=\"T_3b63d_row7_col4\" class=\"data row7 col4\" >5</td>\n",
       "      <td id=\"T_3b63d_row7_col5\" class=\"data row7 col5\" >1753</td>\n",
       "      <td id=\"T_3b63d_row7_col6\" class=\"data row7 col6\" >4</td>\n",
       "    </tr>\n",
       "    <tr>\n",
       "      <td id=\"T_3b63d_row8_col0\" class=\"data row8 col0\" >Exam Ref 70-768 Developing SQL Data Models</td>\n",
       "      <td id=\"T_3b63d_row8_col1\" class=\"data row8 col1\" >2019</td>\n",
       "      <td id=\"T_3b63d_row8_col2\" class=\"data row8 col2\" >BI, Data Warehousing, PowerBI</td>\n",
       "      <td id=\"T_3b63d_row8_col3\" class=\"data row8 col3\" >Pearson Education</td>\n",
       "      <td id=\"T_3b63d_row8_col4\" class=\"data row8 col4\" >5</td>\n",
       "      <td id=\"T_3b63d_row8_col5\" class=\"data row8 col5\" >1679</td>\n",
       "      <td id=\"T_3b63d_row8_col6\" class=\"data row8 col6\" >4</td>\n",
       "    </tr>\n",
       "    <tr>\n",
       "      <td id=\"T_3b63d_row9_col0\" class=\"data row9 col0\" >Algorithms An illustrated guide for programmers and other curious people </td>\n",
       "      <td id=\"T_3b63d_row9_col1\" class=\"data row9 col1\" >2017</td>\n",
       "      <td id=\"T_3b63d_row9_col2\" class=\"data row9 col2\" >Software Engineering</td>\n",
       "      <td id=\"T_3b63d_row9_col3\" class=\"data row9 col3\" >Manning</td>\n",
       "      <td id=\"T_3b63d_row9_col4\" class=\"data row9 col4\" >5</td>\n",
       "      <td id=\"T_3b63d_row9_col5\" class=\"data row9 col5\" >1650</td>\n",
       "      <td id=\"T_3b63d_row9_col6\" class=\"data row9 col6\" >4</td>\n",
       "    </tr>\n",
       "  </tbody>\n",
       "</table>\n"
      ],
      "text/plain": [
       "<pandas.io.formats.style.Styler at 0x7f0ed819b560>"
      ]
     },
     "metadata": {},
     "output_type": "display_data"
    }
   ],
   "source": [
    "reading_list_processor.process_rl_by_kbsize()"
   ]
  },
  {
   "cell_type": "code",
   "execution_count": null,
   "metadata": {},
   "outputs": [],
   "source": [
    "\n"
   ]
  },
  {
   "cell_type": "code",
   "execution_count": null,
   "metadata": {},
   "outputs": [],
   "source": [
    "\n"
   ]
  },
  {
   "cell_type": "code",
   "execution_count": null,
   "metadata": {},
   "outputs": [],
   "source": [
    "\n"
   ]
  },
  {
   "cell_type": "code",
   "execution_count": null,
   "metadata": {},
   "outputs": [],
   "source": []
  },
  {
   "cell_type": "code",
   "execution_count": null,
   "metadata": {},
   "outputs": [],
   "source": [
    "\n"
   ]
  },
  {
   "cell_type": "code",
   "execution_count": null,
   "metadata": {},
   "outputs": [],
   "source": [
    "\n"
   ]
  },
  {
   "cell_type": "code",
   "execution_count": null,
   "metadata": {},
   "outputs": [],
   "source": [
    "\n"
   ]
  },
  {
   "cell_type": "code",
   "execution_count": null,
   "metadata": {},
   "outputs": [],
   "source": [
    "\n"
   ]
  },
  {
   "attachments": {},
   "cell_type": "markdown",
   "metadata": {},
   "source": [
    "#### Main : Markdown Files"
   ]
  },
  {
   "cell_type": "code",
   "execution_count": null,
   "metadata": {},
   "outputs": [],
   "source": []
  },
  {
   "cell_type": "code",
   "execution_count": null,
   "metadata": {},
   "outputs": [],
   "source": []
  },
  {
   "cell_type": "code",
   "execution_count": null,
   "metadata": {},
   "outputs": [],
   "source": []
  },
  {
   "cell_type": "code",
   "execution_count": null,
   "metadata": {},
   "outputs": [],
   "source": []
  },
  {
   "cell_type": "code",
   "execution_count": null,
   "metadata": {},
   "outputs": [],
   "source": []
  },
  {
   "cell_type": "code",
   "execution_count": null,
   "metadata": {},
   "outputs": [],
   "source": []
  },
  {
   "cell_type": "code",
   "execution_count": null,
   "metadata": {},
   "outputs": [],
   "source": []
  }
 ],
 "metadata": {
  "kernelspec": {
   "display_name": "Python 3",
   "language": "python",
   "name": "python3"
  },
  "language_info": {
   "codemirror_mode": {
    "name": "ipython",
    "version": 3
   },
   "file_extension": ".py",
   "mimetype": "text/x-python",
   "name": "python",
   "nbconvert_exporter": "python",
   "pygments_lexer": "ipython3",
   "version": "3.12.5"
  },
  "orig_nbformat": 4,
  "polyglot_notebook": {
   "kernelInfo": {
    "defaultKernelName": "csharp",
    "items": [
     {
      "aliases": [],
      "name": "csharp"
     }
    ]
   }
  }
 },
 "nbformat": 4,
 "nbformat_minor": 2
}
